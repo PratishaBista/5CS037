{
 "cells": [
  {
   "cell_type": "code",
   "execution_count": 21,
   "id": "e29ba2a5-ccff-4966-9b79-db0bc1f6faf3",
   "metadata": {},
   "outputs": [
    {
     "name": "stdout",
     "output_type": "stream",
     "text": [
      "Current working directory:  C:\\Users\\USER\\OneDrive - University of Wolverhampton\\L5S1CG1\\Concepts and Technologies of AI\\Workshop\n",
      "['.gitkeep', '.ipynb_checkpoints', 'bank.csv', 'banknumericdata.csv', 'medical_students_dataset.csv', 'Titanic-Dataset.csv', 'Titanic.csv', 'Untitled.ipynb', 'Worksheet  -03- Exploratory Data Analysis Part - II.pdf', 'Worksheet - 0 - Essentials of Python for ML..pdf', 'Worksheet - 02 - Final - Exploratory Data Analysis with Pandas Part - I.pdf', 'Worksheet -1 - Coding Exercise with Numpy.pdf', 'worksheet-02.ipynb', 'worksheet-0_ Pratisha_Bista_2408284', 'Workshop - 01  -   An Introduction to Numpy.pdf', 'Workshop - 3 - Advance Operations with Pandas and Review of Matplotlib.pdf', 'Workshop -02- Introduction to Exploratory Data Analysis  with Pandas.pdf', 'workshop-01', 'workshop-03.ipynb']\n"
     ]
    }
   ],
   "source": [
    "import os\n",
    "print(\"Current working directory: \", os.getcwd())\n",
    "print(os.listdir())"
   ]
  },
  {
   "cell_type": "markdown",
   "id": "7cb75a17-1863-4230-a1af-3c494895a1d5",
   "metadata": {},
   "source": [
    "# 3.1] 1. Sorting and Subsetting"
   ]
  },
  {
   "cell_type": "code",
   "execution_count": 3,
   "id": "66ae8211-8f5d-412b-bfc7-7343b90b7602",
   "metadata": {},
   "outputs": [
    {
     "name": "stdout",
     "output_type": "stream",
     "text": [
      "   PassengerId  Survived  Pclass  \\\n",
      "0            1         0       3   \n",
      "1            2         1       1   \n",
      "2            3         1       3   \n",
      "3            4         1       1   \n",
      "4            5         0       3   \n",
      "\n",
      "                                                Name     Sex   Age  SibSp  \\\n",
      "0                            Braund, Mr. Owen Harris    male  22.0      1   \n",
      "1  Cumings, Mrs. John Bradley (Florence Briggs Th...  female  38.0      1   \n",
      "2                             Heikkinen, Miss. Laina  female  26.0      0   \n",
      "3       Futrelle, Mrs. Jacques Heath (Lily May Peel)  female  35.0      1   \n",
      "4                           Allen, Mr. William Henry    male  35.0      0   \n",
      "\n",
      "   Parch            Ticket     Fare Cabin Embarked  \n",
      "0      0         A/5 21171   7.2500   NaN        S  \n",
      "1      0          PC 17599  71.2833   C85        C  \n",
      "2      0  STON/O2. 3101282   7.9250   NaN        S  \n",
      "3      0            113803  53.1000  C123        S  \n",
      "4      0            373450   8.0500   NaN        S  \n",
      "\n",
      "\n",
      "<class 'pandas.core.frame.DataFrame'>\n",
      "RangeIndex: 891 entries, 0 to 890\n",
      "Data columns (total 12 columns):\n",
      " #   Column       Non-Null Count  Dtype  \n",
      "---  ------       --------------  -----  \n",
      " 0   PassengerId  891 non-null    int64  \n",
      " 1   Survived     891 non-null    int64  \n",
      " 2   Pclass       891 non-null    int64  \n",
      " 3   Name         891 non-null    object \n",
      " 4   Sex          891 non-null    object \n",
      " 5   Age          714 non-null    float64\n",
      " 6   SibSp        891 non-null    int64  \n",
      " 7   Parch        891 non-null    int64  \n",
      " 8   Ticket       891 non-null    object \n",
      " 9   Fare         891 non-null    float64\n",
      " 10  Cabin        204 non-null    object \n",
      " 11  Embarked     889 non-null    object \n",
      "dtypes: float64(2), int64(5), object(5)\n",
      "memory usage: 83.7+ KB\n",
      "None\n",
      "\n",
      "\n"
     ]
    }
   ],
   "source": [
    "import pandas as pd\n",
    "df = pd.read_csv(\"Titanic.csv\")\n",
    "print(df.head())\n",
    "print(\"\\n\")\n",
    "\n",
    "print(df.info())\n",
    "print(\"\\n\")"
   ]
  },
  {
   "cell_type": "markdown",
   "id": "0da1f2d7-9953-4ea7-a7dd-e8363b868aaf",
   "metadata": {},
   "source": [
    "## Problem 1- Sorting"
   ]
  },
  {
   "cell_type": "code",
   "execution_count": 4,
   "id": "b33aa315-eca4-424b-b52a-74aedaeb2ebc",
   "metadata": {},
   "outputs": [
    {
     "name": "stdout",
     "output_type": "stream",
     "text": [
      "   PassengerId  Survived  Pclass  \\\n",
      "0            1         0       3   \n",
      "1            2         1       1   \n",
      "2            3         1       3   \n",
      "3            4         1       1   \n",
      "4            5         0       3   \n",
      "\n",
      "                                                Name     Sex   Age  SibSp  \\\n",
      "0                            Braund, Mr. Owen Harris    male  22.0      1   \n",
      "1  Cumings, Mrs. John Bradley (Florence Briggs Th...  female  38.0      1   \n",
      "2                             Heikkinen, Miss. Laina  female  26.0      0   \n",
      "3       Futrelle, Mrs. Jacques Heath (Lily May Peel)  female  35.0      1   \n",
      "4                           Allen, Mr. William Henry    male  35.0      0   \n",
      "\n",
      "   Parch            Ticket     Fare Cabin Embarked  \n",
      "0      0         A/5 21171   7.2500   NaN        S  \n",
      "1      0          PC 17599  71.2833   C85        C  \n",
      "2      0  STON/O2. 3101282   7.9250   NaN        S  \n",
      "3      0            113803  53.1000  C123        S  \n",
      "4      0            373450   8.0500   NaN        S  \n"
     ]
    }
   ],
   "source": [
    "df_copy = df.copy()\n",
    "print(df_copy.head())"
   ]
  },
  {
   "cell_type": "code",
   "execution_count": 5,
   "id": "8c7ecc75-5358-4093-8582-58fd2ab9553b",
   "metadata": {},
   "outputs": [
    {
     "name": "stdout",
     "output_type": "stream",
     "text": [
      "      Fare\n",
      "0   7.2500\n",
      "1  71.2833\n",
      "2   7.9250\n",
      "3  53.1000\n",
      "4   8.0500\n",
      "5   8.4583\n",
      "6  51.8625\n",
      "7  21.0750\n",
      "8  11.1333\n",
      "9  30.0708\n"
     ]
    }
   ],
   "source": [
    "import pandas as pd\n",
    "fare = df_copy[['Fare']] #bracket notation to select specific column\n",
    "print(fare.head(10))"
   ]
  },
  {
   "cell_type": "code",
   "execution_count": 6,
   "id": "8c8f83b5-3014-4fb2-a5ca-6225f03e070a",
   "metadata": {},
   "outputs": [
    {
     "name": "stdout",
     "output_type": "stream",
     "text": [
      "   Pclass   Age\n",
      "0       3  22.0\n",
      "1       1  38.0\n",
      "2       3  26.0\n",
      "3       1  35.0\n",
      "4       3  35.0\n",
      "5       3   NaN\n",
      "6       1  54.0\n",
      "7       3   2.0\n",
      "8       3  27.0\n",
      "9       2  14.0\n"
     ]
    }
   ],
   "source": [
    "class_age = df_copy[['Pclass', 'Age']]\n",
    "print(class_age.head(10))"
   ]
  },
  {
   "cell_type": "code",
   "execution_count": 28,
   "id": "5c0ba649-5834-413b-a0ef-e369a10216f4",
   "metadata": {},
   "outputs": [
    {
     "name": "stdout",
     "output_type": "stream",
     "text": [
      "   Survived     Sex\n",
      "0         0    male\n",
      "1         1  female\n",
      "2         1  female\n",
      "3         1  female\n",
      "4         0    male\n",
      "5         0    male\n",
      "6         0    male\n",
      "7         0    male\n",
      "8         1  female\n",
      "9         1  female\n"
     ]
    }
   ],
   "source": [
    "survived_gender = df_copy[['Survived', 'Sex']]\n",
    "print(survived_gender.head(10))"
   ]
  },
  {
   "cell_type": "markdown",
   "id": "c5fdfa25-ae2f-4a92-bff5-605bc5faea79",
   "metadata": {},
   "source": [
    "## Problem 2- Subsetting"
   ]
  },
  {
   "cell_type": "markdown",
   "id": "bdb68400-47a7-4c95-9418-596566ba0645",
   "metadata": {},
   "source": [
    "Subsetting Rows"
   ]
  },
  {
   "cell_type": "code",
   "execution_count": 29,
   "id": "106581ee-5471-4ddd-8150-185b5c21836c",
   "metadata": {},
   "outputs": [
    {
     "name": "stdout",
     "output_type": "stream",
     "text": [
      "     PassengerId  Survived  Pclass  \\\n",
      "27            28         0       1   \n",
      "31            32         1       1   \n",
      "88            89         1       1   \n",
      "118          119         0       1   \n",
      "195          196         1       1   \n",
      "215          216         1       1   \n",
      "258          259         1       1   \n",
      "268          269         1       1   \n",
      "269          270         1       1   \n",
      "297          298         0       1   \n",
      "299          300         1       1   \n",
      "305          306         1       1   \n",
      "306          307         1       1   \n",
      "307          308         1       1   \n",
      "311          312         1       1   \n",
      "318          319         1       1   \n",
      "319          320         1       1   \n",
      "325          326         1       1   \n",
      "332          333         0       1   \n",
      "334          335         1       1   \n",
      "337          338         1       1   \n",
      "341          342         1       1   \n",
      "373          374         0       1   \n",
      "377          378         0       1   \n",
      "380          381         1       1   \n",
      "390          391         1       1   \n",
      "393          394         1       1   \n",
      "435          436         1       1   \n",
      "438          439         0       1   \n",
      "498          499         0       1   \n",
      "505          506         0       1   \n",
      "527          528         0       1   \n",
      "537          538         1       1   \n",
      "544          545         0       1   \n",
      "550          551         1       1   \n",
      "557          558         0       1   \n",
      "581          582         1       1   \n",
      "609          610         1       1   \n",
      "659          660         0       1   \n",
      "660          661         1       1   \n",
      "679          680         1       1   \n",
      "689          690         1       1   \n",
      "698          699         0       1   \n",
      "700          701         1       1   \n",
      "708          709         1       1   \n",
      "716          717         1       1   \n",
      "730          731         1       1   \n",
      "737          738         1       1   \n",
      "742          743         1       1   \n",
      "763          764         1       1   \n",
      "779          780         1       1   \n",
      "802          803         1       1   \n",
      "856          857         1       1   \n",
      "\n",
      "                                                  Name     Sex    Age  SibSp  \\\n",
      "27                      Fortune, Mr. Charles Alexander    male  19.00      3   \n",
      "31      Spencer, Mrs. William Augustus (Marie Eugenie)  female    NaN      1   \n",
      "88                          Fortune, Miss. Mabel Helen  female  23.00      3   \n",
      "118                           Baxter, Mr. Quigg Edmond    male  24.00      0   \n",
      "195                               Lurette, Miss. Elise  female  58.00      0   \n",
      "215                            Newell, Miss. Madeleine  female  31.00      1   \n",
      "258                                   Ward, Miss. Anna  female  35.00      0   \n",
      "268      Graham, Mrs. William Thompson (Edith Junkins)  female  58.00      0   \n",
      "269                             Bissette, Miss. Amelia  female  35.00      0   \n",
      "297                       Allison, Miss. Helen Loraine  female   2.00      1   \n",
      "299    Baxter, Mrs. James (Helene DeLaudeniere Chaput)  female  50.00      0   \n",
      "305                     Allison, Master. Hudson Trevor    male   0.92      1   \n",
      "306                            Fleming, Miss. Margaret  female    NaN      0   \n",
      "307  Penasco y Castellana, Mrs. Victor de Satode (M...  female  17.00      1   \n",
      "311                         Ryerson, Miss. Emily Borie  female  18.00      2   \n",
      "318                           Wick, Miss. Mary Natalie  female  31.00      0   \n",
      "319  Spedden, Mrs. Frederic Oakley (Margaretta Corn...  female  40.00      1   \n",
      "325                           Young, Miss. Marie Grice  female  36.00      0   \n",
      "332                          Graham, Mr. George Edward    male  38.00      0   \n",
      "334  Frauenthal, Mrs. Henry William (Clara Heinshei...  female    NaN      1   \n",
      "337                    Burns, Miss. Elizabeth Margaret  female  41.00      0   \n",
      "341                     Fortune, Miss. Alice Elizabeth  female  24.00      3   \n",
      "373                                Ringhini, Mr. Sante    male  22.00      0   \n",
      "377                          Widener, Mr. Harry Elkins    male  27.00      0   \n",
      "380                              Bidois, Miss. Rosalie  female  42.00      0   \n",
      "390                         Carter, Mr. William Ernest    male  36.00      1   \n",
      "393                             Newell, Miss. Marjorie  female  23.00      1   \n",
      "435                          Carter, Miss. Lucile Polk  female  14.00      1   \n",
      "438                                  Fortune, Mr. Mark    male  64.00      1   \n",
      "498    Allison, Mrs. Hudson J C (Bessie Waldo Daniels)  female  25.00      1   \n",
      "505         Penasco y Castellana, Mr. Victor de Satode    male  18.00      1   \n",
      "527                                 Farthing, Mr. John    male    NaN      0   \n",
      "537                                LeRoy, Miss. Bertha  female  30.00      0   \n",
      "544                         Douglas, Mr. Walter Donald    male  50.00      1   \n",
      "550                        Thayer, Mr. John Borland Jr    male  17.00      0   \n",
      "557                                Robbins, Mr. Victor    male    NaN      0   \n",
      "581  Thayer, Mrs. John Borland (Marian Longstreth M...  female  39.00      1   \n",
      "609                          Shutes, Miss. Elizabeth W  female  40.00      0   \n",
      "659                         Newell, Mr. Arthur Webster    male  58.00      0   \n",
      "660                      Frauenthal, Dr. Henry William    male  50.00      2   \n",
      "679                 Cardeza, Mr. Thomas Drake Martinez    male  36.00      0   \n",
      "689                  Madill, Miss. Georgette Alexandra  female  15.00      0   \n",
      "698                           Thayer, Mr. John Borland    male  49.00      1   \n",
      "700  Astor, Mrs. John Jacob (Madeleine Talmadge Force)  female  18.00      1   \n",
      "708                               Cleaver, Miss. Alice  female  22.00      0   \n",
      "716                      Endres, Miss. Caroline Louise  female  38.00      0   \n",
      "730                      Allen, Miss. Elisabeth Walton  female  29.00      0   \n",
      "737                             Lesurer, Mr. Gustave J    male  35.00      0   \n",
      "742              Ryerson, Miss. Susan Parker \"Suzette\"  female  21.00      2   \n",
      "763          Carter, Mrs. William Ernest (Lucile Polk)  female  36.00      1   \n",
      "779  Robert, Mrs. Edward Scott (Elisabeth Walton Mc...  female  43.00      0   \n",
      "802                Carter, Master. William Thornton II    male  11.00      1   \n",
      "856         Wick, Mrs. George Dennick (Mary Hitchcock)  female  45.00      1   \n",
      "\n",
      "     Parch    Ticket      Fare            Cabin Embarked  \n",
      "27       2     19950  263.0000      C23 C25 C27        S  \n",
      "31       0  PC 17569  146.5208              B78        C  \n",
      "88       2     19950  263.0000      C23 C25 C27        S  \n",
      "118      1  PC 17558  247.5208          B58 B60        C  \n",
      "195      0  PC 17569  146.5208              B80        C  \n",
      "215      0     35273  113.2750              D36        C  \n",
      "258      0  PC 17755  512.3292              NaN        C  \n",
      "268      1  PC 17582  153.4625             C125        S  \n",
      "269      0  PC 17760  135.6333              C99        S  \n",
      "297      2    113781  151.5500          C22 C26        S  \n",
      "299      1  PC 17558  247.5208          B58 B60        C  \n",
      "305      2    113781  151.5500          C22 C26        S  \n",
      "306      0     17421  110.8833              NaN        C  \n",
      "307      0  PC 17758  108.9000              C65        C  \n",
      "311      2  PC 17608  262.3750  B57 B59 B63 B66        C  \n",
      "318      2     36928  164.8667               C7        S  \n",
      "319      1     16966  134.5000              E34        C  \n",
      "325      0  PC 17760  135.6333              C32        C  \n",
      "332      1  PC 17582  153.4625              C91        S  \n",
      "334      0  PC 17611  133.6500              NaN        S  \n",
      "337      0     16966  134.5000              E40        C  \n",
      "341      2     19950  263.0000      C23 C25 C27        S  \n",
      "373      0  PC 17760  135.6333              NaN        C  \n",
      "377      2    113503  211.5000              C82        C  \n",
      "380      0  PC 17757  227.5250              NaN        C  \n",
      "390      2    113760  120.0000          B96 B98        S  \n",
      "393      0     35273  113.2750              D36        C  \n",
      "435      2    113760  120.0000          B96 B98        S  \n",
      "438      4     19950  263.0000      C23 C25 C27        S  \n",
      "498      2    113781  151.5500          C22 C26        S  \n",
      "505      0  PC 17758  108.9000              C65        C  \n",
      "527      0  PC 17483  221.7792              C95        S  \n",
      "537      0  PC 17761  106.4250              NaN        C  \n",
      "544      0  PC 17761  106.4250              C86        C  \n",
      "550      2     17421  110.8833              C70        C  \n",
      "557      0  PC 17757  227.5250              NaN        C  \n",
      "581      1     17421  110.8833              C68        C  \n",
      "609      0  PC 17582  153.4625             C125        S  \n",
      "659      2     35273  113.2750              D48        C  \n",
      "660      0  PC 17611  133.6500              NaN        S  \n",
      "679      1  PC 17755  512.3292      B51 B53 B55        C  \n",
      "689      1     24160  211.3375               B5        S  \n",
      "698      1     17421  110.8833              C68        C  \n",
      "700      0  PC 17757  227.5250          C62 C64        C  \n",
      "708      0    113781  151.5500              NaN        S  \n",
      "716      0  PC 17757  227.5250              C45        C  \n",
      "730      0     24160  211.3375               B5        S  \n",
      "737      0  PC 17755  512.3292             B101        C  \n",
      "742      2  PC 17608  262.3750  B57 B59 B63 B66        C  \n",
      "763      2    113760  120.0000          B96 B98        S  \n",
      "779      1     24160  211.3375               B3        S  \n",
      "802      2    113760  120.0000          B96 B98        S  \n",
      "856      1     36928  164.8667              NaN        S  \n"
     ]
    }
   ],
   "source": [
    "fare_gt_100 = df_copy[df_copy['Fare'] >100]\n",
    "print(fare_gt_100)"
   ]
  },
  {
   "cell_type": "code",
   "execution_count": 30,
   "id": "607b6390-71fd-4339-a948-b8bff9257692",
   "metadata": {},
   "outputs": [
    {
     "name": "stdout",
     "output_type": "stream",
     "text": [
      "     PassengerId  Survived  Pclass  \\\n",
      "1              2         1       1   \n",
      "3              4         1       1   \n",
      "6              7         0       1   \n",
      "11            12         1       1   \n",
      "23            24         1       1   \n",
      "..           ...       ...     ...   \n",
      "871          872         1       1   \n",
      "872          873         0       1   \n",
      "879          880         1       1   \n",
      "887          888         1       1   \n",
      "889          890         1       1   \n",
      "\n",
      "                                                  Name     Sex   Age  SibSp  \\\n",
      "1    Cumings, Mrs. John Bradley (Florence Briggs Th...  female  38.0      1   \n",
      "3         Futrelle, Mrs. Jacques Heath (Lily May Peel)  female  35.0      1   \n",
      "6                              McCarthy, Mr. Timothy J    male  54.0      0   \n",
      "11                            Bonnell, Miss. Elizabeth  female  58.0      0   \n",
      "23                        Sloper, Mr. William Thompson    male  28.0      0   \n",
      "..                                                 ...     ...   ...    ...   \n",
      "871   Beckwith, Mrs. Richard Leonard (Sallie Monypeny)  female  47.0      1   \n",
      "872                           Carlsson, Mr. Frans Olof    male  33.0      0   \n",
      "879      Potter, Mrs. Thomas Jr (Lily Alexenia Wilson)  female  56.0      0   \n",
      "887                       Graham, Miss. Margaret Edith  female  19.0      0   \n",
      "889                              Behr, Mr. Karl Howell    male  26.0      0   \n",
      "\n",
      "     Parch    Ticket     Fare        Cabin Embarked  \n",
      "1        0  PC 17599  71.2833          C85        C  \n",
      "3        0    113803  53.1000         C123        S  \n",
      "6        0     17463  51.8625          E46        S  \n",
      "11       0    113783  26.5500         C103        S  \n",
      "23       0    113788  35.5000           A6        S  \n",
      "..     ...       ...      ...          ...      ...  \n",
      "871      1     11751  52.5542          D35        S  \n",
      "872      0       695   5.0000  B51 B53 B55        S  \n",
      "879      1     11767  83.1583          C50        C  \n",
      "887      0    112053  30.0000          B42        S  \n",
      "889      0    111369  30.0000         C148        C  \n",
      "\n",
      "[216 rows x 12 columns]\n"
     ]
    }
   ],
   "source": [
    "first_class = df_copy[df_copy['Pclass'] == 1]\n",
    "print(first_class)"
   ]
  },
  {
   "cell_type": "code",
   "execution_count": 31,
   "id": "fbe2c403-f2ee-44a0-905b-2a54361e6ee0",
   "metadata": {},
   "outputs": [
    {
     "name": "stdout",
     "output_type": "stream",
     "text": [
      "     PassengerId  Survived  Pclass  \\\n",
      "9             10         1       2   \n",
      "10            11         1       3   \n",
      "14            15         0       3   \n",
      "22            23         1       3   \n",
      "24            25         0       3   \n",
      "39            40         1       3   \n",
      "43            44         1       2   \n",
      "58            59         1       2   \n",
      "68            69         1       3   \n",
      "71            72         0       3   \n",
      "84            85         1       2   \n",
      "111          112         0       3   \n",
      "114          115         0       3   \n",
      "119          120         0       3   \n",
      "147          148         0       3   \n",
      "156          157         1       3   \n",
      "172          173         1       3   \n",
      "184          185         1       3   \n",
      "205          206         0       3   \n",
      "208          209         1       3   \n",
      "233          234         1       3   \n",
      "237          238         1       2   \n",
      "297          298         0       1   \n",
      "307          308         1       1   \n",
      "329          330         1       1   \n",
      "374          375         0       3   \n",
      "381          382         1       3   \n",
      "389          390         1       2   \n",
      "419          420         0       3   \n",
      "435          436         1       1   \n",
      "446          447         1       2   \n",
      "448          449         1       3   \n",
      "469          470         1       3   \n",
      "479          480         1       3   \n",
      "504          505         1       1   \n",
      "530          531         1       2   \n",
      "535          536         1       2   \n",
      "541          542         0       3   \n",
      "542          543         0       3   \n",
      "618          619         1       2   \n",
      "634          635         0       3   \n",
      "642          643         0       3   \n",
      "644          645         1       3   \n",
      "689          690         1       1   \n",
      "691          692         1       3   \n",
      "720          721         1       2   \n",
      "750          751         1       2   \n",
      "777          778         1       3   \n",
      "780          781         1       3   \n",
      "781          782         1       1   \n",
      "813          814         0       3   \n",
      "830          831         1       3   \n",
      "852          853         0       3   \n",
      "853          854         1       1   \n",
      "875          876         1       3   \n",
      "\n",
      "                                                  Name     Sex    Age  SibSp  \\\n",
      "9                  Nasser, Mrs. Nicholas (Adele Achem)  female  14.00      1   \n",
      "10                     Sandstrom, Miss. Marguerite Rut  female   4.00      1   \n",
      "14                Vestrom, Miss. Hulda Amanda Adolfina  female  14.00      0   \n",
      "22                         McGowan, Miss. Anna \"Annie\"  female  15.00      0   \n",
      "24                       Palsson, Miss. Torborg Danira  female   8.00      3   \n",
      "39                         Nicola-Yarred, Miss. Jamila  female  14.00      1   \n",
      "43            Laroche, Miss. Simonne Marie Anne Andree  female   3.00      1   \n",
      "58                        West, Miss. Constance Mirium  female   5.00      1   \n",
      "68                     Andersson, Miss. Erna Alexandra  female  17.00      4   \n",
      "71                          Goodwin, Miss. Lillian Amy  female  16.00      5   \n",
      "84                                 Ilett, Miss. Bertha  female  17.00      0   \n",
      "111                               Zabour, Miss. Hileni  female  14.50      1   \n",
      "114                              Attalah, Miss. Malake  female  17.00      0   \n",
      "119                  Andersson, Miss. Ellis Anna Maria  female   2.00      4   \n",
      "147                   Ford, Miss. Robina Maggie \"Ruby\"  female   9.00      2   \n",
      "156                   Gilnagh, Miss. Katherine \"Katie\"  female  16.00      0   \n",
      "172                       Johnson, Miss. Eleanor Ileen  female   1.00      1   \n",
      "184                Kink-Heilmann, Miss. Luise Gretchen  female   4.00      0   \n",
      "205                         Strom, Miss. Telma Matilda  female   2.00      0   \n",
      "208                          Carr, Miss. Helen \"Ellen\"  female  16.00      0   \n",
      "233                     Asplund, Miss. Lillian Gertrud  female   5.00      4   \n",
      "237                   Collyer, Miss. Marjorie \"Lottie\"  female   8.00      0   \n",
      "297                       Allison, Miss. Helen Loraine  female   2.00      1   \n",
      "307  Penasco y Castellana, Mrs. Victor de Satode (M...  female  17.00      1   \n",
      "329                       Hippach, Miss. Jean Gertrude  female  16.00      0   \n",
      "374                         Palsson, Miss. Stina Viola  female   3.00      3   \n",
      "381                        Nakid, Miss. Maria (\"Mary\")  female   1.00      0   \n",
      "389                              Lehmann, Miss. Bertha  female  17.00      0   \n",
      "419                          Van Impe, Miss. Catharina  female  10.00      0   \n",
      "435                          Carter, Miss. Lucile Polk  female  14.00      1   \n",
      "446                  Mellinger, Miss. Madeleine Violet  female  13.00      0   \n",
      "448                     Baclini, Miss. Marie Catherine  female   5.00      2   \n",
      "469                      Baclini, Miss. Helene Barbara  female   0.75      2   \n",
      "479                           Hirvonen, Miss. Hildur E  female   2.00      0   \n",
      "504                              Maioni, Miss. Roberta  female  16.00      0   \n",
      "530                           Quick, Miss. Phyllis May  female   2.00      1   \n",
      "535                             Hart, Miss. Eva Miriam  female   7.00      0   \n",
      "541               Andersson, Miss. Ingeborg Constanzia  female   9.00      4   \n",
      "542                  Andersson, Miss. Sigrid Elisabeth  female  11.00      4   \n",
      "618                        Becker, Miss. Marion Louise  female   4.00      2   \n",
      "634                                 Skoog, Miss. Mabel  female   9.00      3   \n",
      "642                      Skoog, Miss. Margit Elizabeth  female   2.00      3   \n",
      "644                             Baclini, Miss. Eugenie  female   0.75      2   \n",
      "689                  Madill, Miss. Georgette Alexandra  female  15.00      0   \n",
      "691                                 Karun, Miss. Manca  female   4.00      0   \n",
      "720                  Harper, Miss. Annie Jessie \"Nina\"  female   6.00      0   \n",
      "750                                  Wells, Miss. Joan  female   4.00      1   \n",
      "777                      Emanuel, Miss. Virginia Ethel  female   5.00      0   \n",
      "780                               Ayoub, Miss. Banoura  female  13.00      0   \n",
      "781          Dick, Mrs. Albert Adrian (Vera Gillespie)  female  17.00      1   \n",
      "813                 Andersson, Miss. Ebba Iris Alfrida  female   6.00      4   \n",
      "830            Yasbeck, Mrs. Antoni (Selini Alexander)  female  15.00      1   \n",
      "852                            Boulos, Miss. Nourelain  female   9.00      1   \n",
      "853                          Lines, Miss. Mary Conover  female  16.00      0   \n",
      "875                   Najib, Miss. Adele Kiamie \"Jane\"  female  15.00      0   \n",
      "\n",
      "     Parch         Ticket      Fare    Cabin Embarked  \n",
      "9        0         237736   30.0708      NaN        C  \n",
      "10       1        PP 9549   16.7000       G6        S  \n",
      "14       0         350406    7.8542      NaN        S  \n",
      "22       0         330923    8.0292      NaN        Q  \n",
      "24       1         349909   21.0750      NaN        S  \n",
      "39       0           2651   11.2417      NaN        C  \n",
      "43       2  SC/Paris 2123   41.5792      NaN        C  \n",
      "58       2     C.A. 34651   27.7500      NaN        S  \n",
      "68       2        3101281    7.9250      NaN        S  \n",
      "71       2        CA 2144   46.9000      NaN        S  \n",
      "84       0     SO/C 14885   10.5000      NaN        S  \n",
      "111      0           2665   14.4542      NaN        C  \n",
      "114      0           2627   14.4583      NaN        C  \n",
      "119      2         347082   31.2750      NaN        S  \n",
      "147      2     W./C. 6608   34.3750      NaN        S  \n",
      "156      0          35851    7.7333      NaN        Q  \n",
      "172      1         347742   11.1333      NaN        S  \n",
      "184      2         315153   22.0250      NaN        S  \n",
      "205      1         347054   10.4625       G6        S  \n",
      "208      0         367231    7.7500      NaN        Q  \n",
      "233      2         347077   31.3875      NaN        S  \n",
      "237      2     C.A. 31921   26.2500      NaN        S  \n",
      "297      2         113781  151.5500  C22 C26        S  \n",
      "307      0       PC 17758  108.9000      C65        C  \n",
      "329      1         111361   57.9792      B18        C  \n",
      "374      1         349909   21.0750      NaN        S  \n",
      "381      2           2653   15.7417      NaN        C  \n",
      "389      0        SC 1748   12.0000      NaN        C  \n",
      "419      2         345773   24.1500      NaN        S  \n",
      "435      2         113760  120.0000  B96 B98        S  \n",
      "446      1         250644   19.5000      NaN        S  \n",
      "448      1           2666   19.2583      NaN        C  \n",
      "469      1           2666   19.2583      NaN        C  \n",
      "479      1        3101298   12.2875      NaN        S  \n",
      "504      0         110152   86.5000      B79        S  \n",
      "530      1          26360   26.0000      NaN        S  \n",
      "535      2   F.C.C. 13529   26.2500      NaN        S  \n",
      "541      2         347082   31.2750      NaN        S  \n",
      "542      2         347082   31.2750      NaN        S  \n",
      "618      1         230136   39.0000       F4        S  \n",
      "634      2         347088   27.9000      NaN        S  \n",
      "642      2         347088   27.9000      NaN        S  \n",
      "644      1           2666   19.2583      NaN        C  \n",
      "689      1          24160  211.3375       B5        S  \n",
      "691      1         349256   13.4167      NaN        C  \n",
      "720      1         248727   33.0000      NaN        S  \n",
      "750      1          29103   23.0000      NaN        S  \n",
      "777      0         364516   12.4750      NaN        S  \n",
      "780      0           2687    7.2292      NaN        C  \n",
      "781      0          17474   57.0000      B20        S  \n",
      "813      2         347082   31.2750      NaN        S  \n",
      "830      0           2659   14.4542      NaN        C  \n",
      "852      1           2678   15.2458      NaN        C  \n",
      "853      1       PC 17592   39.4000      D28        S  \n",
      "875      0           2667    7.2250      NaN        C  \n"
     ]
    }
   ],
   "source": [
    "female_under_18 = df_copy[(df_copy['Sex'] == 'female') & (df_copy['Age'] < 18 )]\n",
    "print(female_under_18)"
   ]
  },
  {
   "cell_type": "markdown",
   "id": "bee5c0fe-c445-40be-96ad-b93e872d3c6d",
   "metadata": {},
   "source": [
    "Subsetting rows by categorical variables"
   ]
  },
  {
   "cell_type": "code",
   "execution_count": 32,
   "id": "6aca05f0-3935-44f0-8481-05c27200fffb",
   "metadata": {},
   "outputs": [
    {
     "name": "stdout",
     "output_type": "stream",
     "text": [
      "     PassengerId  Survived  Pclass  \\\n",
      "0              1         0       3   \n",
      "1              2         1       1   \n",
      "2              3         1       3   \n",
      "3              4         1       1   \n",
      "4              5         0       3   \n",
      "..           ...       ...     ...   \n",
      "884          885         0       3   \n",
      "886          887         0       2   \n",
      "887          888         1       1   \n",
      "888          889         0       3   \n",
      "889          890         1       1   \n",
      "\n",
      "                                                  Name     Sex   Age  SibSp  \\\n",
      "0                              Braund, Mr. Owen Harris    male  22.0      1   \n",
      "1    Cumings, Mrs. John Bradley (Florence Briggs Th...  female  38.0      1   \n",
      "2                               Heikkinen, Miss. Laina  female  26.0      0   \n",
      "3         Futrelle, Mrs. Jacques Heath (Lily May Peel)  female  35.0      1   \n",
      "4                             Allen, Mr. William Henry    male  35.0      0   \n",
      "..                                                 ...     ...   ...    ...   \n",
      "884                             Sutehall, Mr. Henry Jr    male  25.0      0   \n",
      "886                              Montvila, Rev. Juozas    male  27.0      0   \n",
      "887                       Graham, Miss. Margaret Edith  female  19.0      0   \n",
      "888           Johnston, Miss. Catherine Helen \"Carrie\"  female   NaN      1   \n",
      "889                              Behr, Mr. Karl Howell    male  26.0      0   \n",
      "\n",
      "     Parch            Ticket     Fare Cabin Embarked  \n",
      "0        0         A/5 21171   7.2500   NaN        S  \n",
      "1        0          PC 17599  71.2833   C85        C  \n",
      "2        0  STON/O2. 3101282   7.9250   NaN        S  \n",
      "3        0            113803  53.1000  C123        S  \n",
      "4        0            373450   8.0500   NaN        S  \n",
      "..     ...               ...      ...   ...      ...  \n",
      "884      0   SOTON/OQ 392076   7.0500   NaN        S  \n",
      "886      0            211536  13.0000   NaN        S  \n",
      "887      0            112053  30.0000   B42        S  \n",
      "888      2        W./C. 6607  23.4500   NaN        S  \n",
      "889      0            111369  30.0000  C148        C  \n",
      "\n",
      "[812 rows x 12 columns]\n"
     ]
    }
   ],
   "source": [
    "embarked_c_or_s = df_copy[(df_copy['Embarked'] == 'C') | (df_copy['Embarked'] == 'S')]\n",
    "print(embarked_c_or_s)"
   ]
  },
  {
   "cell_type": "code",
   "execution_count": 33,
   "id": "60ecab0b-abc1-49b0-b7f2-e703049c6bc5",
   "metadata": {},
   "outputs": [
    {
     "name": "stdout",
     "output_type": "stream",
     "text": [
      "     PassengerId  Survived  Pclass  \\\n",
      "1              2         1       1   \n",
      "3              4         1       1   \n",
      "6              7         0       1   \n",
      "9             10         1       2   \n",
      "11            12         1       1   \n",
      "..           ...       ...     ...   \n",
      "880          881         1       2   \n",
      "883          884         0       2   \n",
      "886          887         0       2   \n",
      "887          888         1       1   \n",
      "889          890         1       1   \n",
      "\n",
      "                                                  Name     Sex   Age  SibSp  \\\n",
      "1    Cumings, Mrs. John Bradley (Florence Briggs Th...  female  38.0      1   \n",
      "3         Futrelle, Mrs. Jacques Heath (Lily May Peel)  female  35.0      1   \n",
      "6                              McCarthy, Mr. Timothy J    male  54.0      0   \n",
      "9                  Nasser, Mrs. Nicholas (Adele Achem)  female  14.0      1   \n",
      "11                            Bonnell, Miss. Elizabeth  female  58.0      0   \n",
      "..                                                 ...     ...   ...    ...   \n",
      "880       Shelley, Mrs. William (Imanita Parrish Hall)  female  25.0      0   \n",
      "883                      Banfield, Mr. Frederick James    male  28.0      0   \n",
      "886                              Montvila, Rev. Juozas    male  27.0      0   \n",
      "887                       Graham, Miss. Margaret Edith  female  19.0      0   \n",
      "889                              Behr, Mr. Karl Howell    male  26.0      0   \n",
      "\n",
      "     Parch            Ticket     Fare Cabin Embarked  \n",
      "1        0          PC 17599  71.2833   C85        C  \n",
      "3        0            113803  53.1000  C123        S  \n",
      "6        0             17463  51.8625   E46        S  \n",
      "9        0            237736  30.0708   NaN        C  \n",
      "11       0            113783  26.5500  C103        S  \n",
      "..     ...               ...      ...   ...      ...  \n",
      "880      1            230433  26.0000   NaN        S  \n",
      "883      0  C.A./SOTON 34068  10.5000   NaN        S  \n",
      "886      0            211536  13.0000   NaN        S  \n",
      "887      0            112053  30.0000   B42        S  \n",
      "889      0            111369  30.0000  C148        C  \n",
      "\n",
      "[400 rows x 12 columns]\n"
     ]
    }
   ],
   "source": [
    "first_second_class = df_copy[df_copy['Pclass'].isin([1, 2])] #using isin() method for faster execution, accepts one argument a set or list\n",
    "print(first_second_class)"
   ]
  },
  {
   "cell_type": "markdown",
   "id": "c417d7b8-831e-4779-9fb1-e44616597ac3",
   "metadata": {},
   "source": [
    "# Exploratory Data Analysis Practice Exercise - 1"
   ]
  },
  {
   "cell_type": "markdown",
   "id": "593d08d9-6e6b-4604-9b7b-aaff976c1091",
   "metadata": {},
   "source": [
    "## Filling the missing values with median of age in age column"
   ]
  },
  {
   "cell_type": "code",
   "execution_count": 8,
   "id": "66151268-e4cd-4d76-901b-184c61554354",
   "metadata": {},
   "outputs": [
    {
     "name": "stdout",
     "output_type": "stream",
     "text": [
      "The median age is: 28.0\n"
     ]
    }
   ],
   "source": [
    "age_median = df_copy['Age'].median()\n",
    "print(f\"The median age is: {age_median}\")"
   ]
  },
  {
   "cell_type": "markdown",
   "id": "4ee63676-e351-4429-a1ae-b52f0818d54d",
   "metadata": {},
   "source": [
    "## 1. Which passenger had the highest fare paid relative to their age?"
   ]
  },
  {
   "cell_type": "code",
   "execution_count": 20,
   "id": "daa67c4e-6a9a-437d-9075-99f0cb41336f",
   "metadata": {},
   "outputs": [
    {
     "name": "stdout",
     "output_type": "stream",
     "text": [
      "    PassengerId  Survived  Pclass  \\\n",
      "0             1         0       3   \n",
      "1             2         1       1   \n",
      "2             3         1       3   \n",
      "3             4         1       1   \n",
      "4             5         0       3   \n",
      "5             6         0       3   \n",
      "6             7         0       1   \n",
      "7             8         0       3   \n",
      "8             9         1       3   \n",
      "9            10         1       2   \n",
      "10           11         1       3   \n",
      "11           12         1       1   \n",
      "12           13         0       3   \n",
      "13           14         0       3   \n",
      "14           15         0       3   \n",
      "15           16         1       2   \n",
      "16           17         0       3   \n",
      "17           18         1       2   \n",
      "18           19         0       3   \n",
      "19           20         1       3   \n",
      "\n",
      "                                                 Name     Sex   Age  SibSp  \\\n",
      "0                             Braund, Mr. Owen Harris    male  22.0      1   \n",
      "1   Cumings, Mrs. John Bradley (Florence Briggs Th...  female  38.0      1   \n",
      "2                              Heikkinen, Miss. Laina  female  26.0      0   \n",
      "3        Futrelle, Mrs. Jacques Heath (Lily May Peel)  female  35.0      1   \n",
      "4                            Allen, Mr. William Henry    male  35.0      0   \n",
      "5                                    Moran, Mr. James    male  28.0      0   \n",
      "6                             McCarthy, Mr. Timothy J    male  54.0      0   \n",
      "7                      Palsson, Master. Gosta Leonard    male   2.0      3   \n",
      "8   Johnson, Mrs. Oscar W (Elisabeth Vilhelmina Berg)  female  27.0      0   \n",
      "9                 Nasser, Mrs. Nicholas (Adele Achem)  female  14.0      1   \n",
      "10                    Sandstrom, Miss. Marguerite Rut  female   4.0      1   \n",
      "11                           Bonnell, Miss. Elizabeth  female  58.0      0   \n",
      "12                     Saundercock, Mr. William Henry    male  20.0      0   \n",
      "13                        Andersson, Mr. Anders Johan    male  39.0      1   \n",
      "14               Vestrom, Miss. Hulda Amanda Adolfina  female  14.0      0   \n",
      "15                   Hewlett, Mrs. (Mary D Kingcome)   female  55.0      0   \n",
      "16                               Rice, Master. Eugene    male   2.0      4   \n",
      "17                       Williams, Mr. Charles Eugene    male  28.0      0   \n",
      "18  Vander Planke, Mrs. Julius (Emelia Maria Vande...  female  31.0      1   \n",
      "19                            Masselmani, Mrs. Fatima  female  28.0      0   \n",
      "\n",
      "    Parch            Ticket     Fare Cabin Embarked  \n",
      "0       0         A/5 21171   7.2500   NaN        S  \n",
      "1       0          PC 17599  71.2833   C85        C  \n",
      "2       0  STON/O2. 3101282   7.9250   NaN        S  \n",
      "3       0            113803  53.1000  C123        S  \n",
      "4       0            373450   8.0500   NaN        S  \n",
      "5       0            330877   8.4583   NaN        Q  \n",
      "6       0             17463  51.8625   E46        S  \n",
      "7       1            349909  21.0750   NaN        S  \n",
      "8       2            347742  11.1333   NaN        S  \n",
      "9       0            237736  30.0708   NaN        C  \n",
      "10      1           PP 9549  16.7000    G6        S  \n",
      "11      0            113783  26.5500  C103        S  \n",
      "12      0         A/5. 2151   8.0500   NaN        S  \n",
      "13      5            347082  31.2750   NaN        S  \n",
      "14      0            350406   7.8542   NaN        S  \n",
      "15      0            248706  16.0000   NaN        S  \n",
      "16      1            382652  29.1250   NaN        Q  \n",
      "17      0            244373  13.0000   NaN        S  \n",
      "18      0            345763  18.0000   NaN        S  \n",
      "19      0              2649   7.2250   NaN        C  \n"
     ]
    }
   ],
   "source": [
    "df_copy['Age'] = df_copy['Age'].fillna(age_median)\n",
    "print(df_copy.head(20))"
   ]
  },
  {
   "cell_type": "markdown",
   "id": "a9e5adf4-2a01-4df6-aa5e-089e978ef9ee",
   "metadata": {},
   "source": [
    "## Add a column to the Titanic dataset, fare per year, containing the fare divided by the age of the passenger(i.e.,Fare/Age)."
   ]
  },
  {
   "cell_type": "code",
   "execution_count": 23,
   "id": "b8d64584-4ff5-44e8-8de8-37cc2b8981ae",
   "metadata": {},
   "outputs": [
    {
     "name": "stdout",
     "output_type": "stream",
     "text": [
      "   PassengerId  Survived  Pclass  \\\n",
      "0            1         0       3   \n",
      "1            2         1       1   \n",
      "2            3         1       3   \n",
      "3            4         1       1   \n",
      "4            5         0       3   \n",
      "\n",
      "                                                Name     Sex   Age  SibSp  \\\n",
      "0                            Braund, Mr. Owen Harris    male  22.0      1   \n",
      "1  Cumings, Mrs. John Bradley (Florence Briggs Th...  female  38.0      1   \n",
      "2                             Heikkinen, Miss. Laina  female  26.0      0   \n",
      "3       Futrelle, Mrs. Jacques Heath (Lily May Peel)  female  35.0      1   \n",
      "4                           Allen, Mr. William Henry    male  35.0      0   \n",
      "\n",
      "   Parch            Ticket     Fare Cabin Embarked  fare_per_class  \\\n",
      "0      0         A/5 21171   7.2500   NaN        S        2.416667   \n",
      "1      0          PC 17599  71.2833   C85        C       71.283300   \n",
      "2      0  STON/O2. 3101282   7.9250   NaN        S        2.641667   \n",
      "3      0            113803  53.1000  C123        S       53.100000   \n",
      "4      0            373450   8.0500   NaN        S        2.683333   \n",
      "\n",
      "   fare_per_year  \n",
      "0       0.329545  \n",
      "1       1.875876  \n",
      "2       0.304808  \n",
      "3       1.517143  \n",
      "4       0.230000  \n"
     ]
    }
   ],
   "source": [
    "\n",
    "df_copy['fare_per_year'] = df_copy['Fare'] / df_copy['Age']\n",
    "print(df_copy.head())\n"
   ]
  },
  {
   "cell_type": "markdown",
   "id": "ee66790a-256c-4aad-a979-e917f98ea0be",
   "metadata": {},
   "source": [
    "## Subset rows where fare per year is higher than 5, assigning this to high fare age"
   ]
  },
  {
   "cell_type": "code",
   "execution_count": 24,
   "id": "15025d57-f988-47d3-9f69-b574a61db872",
   "metadata": {},
   "outputs": [
    {
     "name": "stdout",
     "output_type": "stream",
     "text": [
      "     PassengerId  Survived  Pclass                                      Name  \\\n",
      "7              8         0       3            Palsson, Master. Gosta Leonard   \n",
      "16            17         0       3                      Rice, Master. Eugene   \n",
      "27            28         0       1            Fortune, Mr. Charles Alexander   \n",
      "43            44         1       2  Laroche, Miss. Simonne Marie Anne Andree   \n",
      "50            51         0       3                Panula, Master. Juha Niilo   \n",
      "58            59         1       2              West, Miss. Constance Mirium   \n",
      "63            64         0       3                     Skoog, Master. Harald   \n",
      "78            79         1       2             Caldwell, Master. Alden Gates   \n",
      "88            89         1       1                Fortune, Miss. Mabel Helen   \n",
      "118          119         0       1                  Baxter, Mr. Quigg Edmond   \n",
      "119          120         0       3         Andersson, Miss. Ellis Anna Maria   \n",
      "164          165         0       3              Panula, Master. Eino Viljami   \n",
      "171          172         0       3                      Rice, Master. Arthur   \n",
      "172          173         1       3              Johnson, Miss. Eleanor Ileen   \n",
      "183          184         1       2                 Becker, Master. Richard F   \n",
      "184          185         1       3       Kink-Heilmann, Miss. Luise Gretchen   \n",
      "193          194         1       2                Navratil, Master. Michel M   \n",
      "205          206         0       3                Strom, Miss. Telma Matilda   \n",
      "233          234         1       3            Asplund, Miss. Lillian Gertrud   \n",
      "258          259         1       1                          Ward, Miss. Anna   \n",
      "\n",
      "        Sex    Age  SibSp  Parch         Ticket      Fare        Cabin  \\\n",
      "7      male   2.00      3      1         349909   21.0750          NaN   \n",
      "16     male   2.00      4      1         382652   29.1250          NaN   \n",
      "27     male  19.00      3      2          19950  263.0000  C23 C25 C27   \n",
      "43   female   3.00      1      2  SC/Paris 2123   41.5792          NaN   \n",
      "50     male   7.00      4      1        3101295   39.6875          NaN   \n",
      "58   female   5.00      1      2     C.A. 34651   27.7500          NaN   \n",
      "63     male   4.00      3      2         347088   27.9000          NaN   \n",
      "78     male   0.83      0      2         248738   29.0000          NaN   \n",
      "88   female  23.00      3      2          19950  263.0000  C23 C25 C27   \n",
      "118    male  24.00      0      1       PC 17558  247.5208      B58 B60   \n",
      "119  female   2.00      4      2         347082   31.2750          NaN   \n",
      "164    male   1.00      4      1        3101295   39.6875          NaN   \n",
      "171    male   4.00      4      1         382652   29.1250          NaN   \n",
      "172  female   1.00      1      1         347742   11.1333          NaN   \n",
      "183    male   1.00      2      1         230136   39.0000           F4   \n",
      "184  female   4.00      0      2         315153   22.0250          NaN   \n",
      "193    male   3.00      1      1         230080   26.0000           F2   \n",
      "205  female   2.00      0      1         347054   10.4625           G6   \n",
      "233  female   5.00      4      2         347077   31.3875          NaN   \n",
      "258  female  35.00      0      0       PC 17755  512.3292          NaN   \n",
      "\n",
      "    Embarked  fare_per_class  fare_per_year  \n",
      "7          S        7.025000      10.537500  \n",
      "16         Q        9.708333      14.562500  \n",
      "27         S      263.000000      13.842105  \n",
      "43         C       20.789600      13.859733  \n",
      "50         S       13.229167       5.669643  \n",
      "58         S       13.875000       5.550000  \n",
      "63         S        9.300000       6.975000  \n",
      "78         S       14.500000      34.939759  \n",
      "88         S      263.000000      11.434783  \n",
      "118        C      247.520800      10.313367  \n",
      "119        S       10.425000      15.637500  \n",
      "164        S       13.229167      39.687500  \n",
      "171        Q        9.708333       7.281250  \n",
      "172        S        3.711100      11.133300  \n",
      "183        S       19.500000      39.000000  \n",
      "184        S        7.341667       5.506250  \n",
      "193        S       13.000000       8.666667  \n",
      "205        S        3.487500       5.231250  \n",
      "233        S       10.462500       6.277500  \n",
      "258        C      512.329200      14.637977  \n"
     ]
    }
   ],
   "source": [
    "high_fare_age = df_copy[df_copy['fare_per_year'] > 5]\n",
    "print(high_fare_age.head(20))"
   ]
  },
  {
   "cell_type": "markdown",
   "id": "de59d1c2-43da-45c3-a118-d60430733469",
   "metadata": {},
   "source": [
    "## Sort high fare age by descending fare per year, assigning this to high_fare_age_srt"
   ]
  },
  {
   "cell_type": "code",
   "execution_count": 25,
   "id": "9a376b9d-983c-4676-98eb-462eba39067a",
   "metadata": {},
   "outputs": [
    {
     "name": "stdout",
     "output_type": "stream",
     "text": [
      "     PassengerId  Survived  Pclass                               Name     Sex  \\\n",
      "305          306         1       1     Allison, Master. Hudson Trevor    male   \n",
      "297          298         0       1       Allison, Miss. Helen Loraine  female   \n",
      "386          387         0       3    Goodwin, Master. Sidney Leonard    male   \n",
      "164          165         0       3       Panula, Master. Eino Viljami    male   \n",
      "183          184         1       2          Becker, Master. Richard F    male   \n",
      "827          828         1       2              Mallet, Master. Andre    male   \n",
      "78            79         1       2      Caldwell, Master. Alden Gates    male   \n",
      "469          470         1       3      Baclini, Miss. Helene Barbara  female   \n",
      "644          645         1       3             Baclini, Miss. Eugenie  female   \n",
      "831          832         1       2    Richards, Master. George Sibley    male   \n",
      "755          756         1       2          Hamalainen, Master. Viljo    male   \n",
      "788          789         1       3         Dean, Master. Bertram Vere    male   \n",
      "445          446         1       1          Dodge, Master. Washington    male   \n",
      "803          804         1       3    Thomas, Master. Assad Alexander    male   \n",
      "824          825         0       3       Panula, Master. Urho Abraham    male   \n",
      "381          382         1       3        Nakid, Miss. Maria (\"Mary\")  female   \n",
      "119          120         0       3  Andersson, Miss. Ellis Anna Maria  female   \n",
      "258          259         1       1                   Ward, Miss. Anna  female   \n",
      "737          738         1       1             Lesurer, Mr. Gustave J    male   \n",
      "311          312         1       1         Ryerson, Miss. Emily Borie  female   \n",
      "\n",
      "       Age  SibSp  Parch           Ticket      Fare            Cabin Embarked  \\\n",
      "305   0.92      1      2           113781  151.5500          C22 C26        S   \n",
      "297   2.00      1      2           113781  151.5500          C22 C26        S   \n",
      "386   1.00      5      2          CA 2144   46.9000              NaN        S   \n",
      "164   1.00      4      1          3101295   39.6875              NaN        S   \n",
      "183   1.00      2      1           230136   39.0000               F4        S   \n",
      "827   1.00      0      2  S.C./PARIS 2079   37.0042              NaN        C   \n",
      "78    0.83      0      2           248738   29.0000              NaN        S   \n",
      "469   0.75      2      1             2666   19.2583              NaN        C   \n",
      "644   0.75      2      1             2666   19.2583              NaN        C   \n",
      "831   0.83      1      1            29106   18.7500              NaN        S   \n",
      "755   0.67      1      1           250649   14.5000              NaN        S   \n",
      "788   1.00      1      2        C.A. 2315   20.5750              NaN        S   \n",
      "445   4.00      0      2            33638   81.8583              A34        S   \n",
      "803   0.42      0      1             2625    8.5167              NaN        C   \n",
      "824   2.00      4      1          3101295   39.6875              NaN        S   \n",
      "381   1.00      0      2             2653   15.7417              NaN        C   \n",
      "119   2.00      4      2           347082   31.2750              NaN        S   \n",
      "258  35.00      0      0         PC 17755  512.3292              NaN        C   \n",
      "737  35.00      0      0         PC 17755  512.3292             B101        C   \n",
      "311  18.00      2      2         PC 17608  262.3750  B57 B59 B63 B66        C   \n",
      "\n",
      "     fare_per_class  fare_per_year  \n",
      "305      151.550000     164.728261  \n",
      "297      151.550000      75.775000  \n",
      "386       15.633333      46.900000  \n",
      "164       13.229167      39.687500  \n",
      "183       19.500000      39.000000  \n",
      "827       18.502100      37.004200  \n",
      "78        14.500000      34.939759  \n",
      "469        6.419433      25.677733  \n",
      "644        6.419433      25.677733  \n",
      "831        9.375000      22.590361  \n",
      "755        7.250000      21.641791  \n",
      "788        6.858333      20.575000  \n",
      "445       81.858300      20.464575  \n",
      "803        2.838900      20.277857  \n",
      "824       13.229167      19.843750  \n",
      "381        5.247233      15.741700  \n",
      "119       10.425000      15.637500  \n",
      "258      512.329200      14.637977  \n",
      "737      512.329200      14.637977  \n",
      "311      262.375000      14.576389  \n"
     ]
    }
   ],
   "source": [
    "high_fare_age_srt = high_fare_age.sort_values(by='fare_per_year', ascending=False)\n",
    "print(high_fare_age_srt.head(20))"
   ]
  },
  {
   "cell_type": "markdown",
   "id": "8a960614-9628-4a16-989a-cb45fdca43f5",
   "metadata": {},
   "source": [
    "## Select only the Name and fare per year columns of high fare age srt and save the result as result"
   ]
  },
  {
   "cell_type": "code",
   "execution_count": 26,
   "id": "8182fc1a-f837-4eb8-9cbd-eef918d1bbe6",
   "metadata": {},
   "outputs": [
    {
     "name": "stdout",
     "output_type": "stream",
     "text": [
      "                                       Name  fare_per_year\n",
      "305          Allison, Master. Hudson Trevor     164.728261\n",
      "297            Allison, Miss. Helen Loraine      75.775000\n",
      "386         Goodwin, Master. Sidney Leonard      46.900000\n",
      "164            Panula, Master. Eino Viljami      39.687500\n",
      "183               Becker, Master. Richard F      39.000000\n",
      "..                                      ...            ...\n",
      "318                Wick, Miss. Mary Natalie       5.318281\n",
      "348  Coutts, Master. William Loch \"William\"       5.300000\n",
      "205              Strom, Miss. Telma Matilda       5.231250\n",
      "813      Andersson, Miss. Ebba Iris Alfrida       5.212500\n",
      "480          Goodwin, Master. Harold Victor       5.211111\n",
      "\n",
      "[68 rows x 2 columns]\n"
     ]
    }
   ],
   "source": [
    "result = high_fare_age_srt[['Name', 'fare_per_year']]\n",
    "print(result)"
   ]
  },
  {
   "cell_type": "markdown",
   "id": "8765c839-883c-446c-bda2-86275a5e7b08",
   "metadata": {},
   "source": [
    "### Therefore, the passenger at the top of the list after sorting was Allison, Master. Hudson Trevor, with the highest fare_per_year of approximately 164"
   ]
  },
  {
   "cell_type": "markdown",
   "id": "1bb2d827-23e1-4755-9781-0e083e37c180",
   "metadata": {},
   "source": [
    "### Conclusions\n",
    "If age wasn't involved in the calculation of fare per year, you would likely get a different result. If we only considered the Fare without dividing it by Age, passengers who paid higher fares regardless of their age would be ranked higher. Simple as that. \n",
    "\n",
    "The Fare per year divides the total Fare by Age, so if a passenger is relatively young but paid a high fare, their fare per year could be higher compared to an older passenger who paid a similar fare."
   ]
  },
  {
   "cell_type": "code",
   "execution_count": 55,
   "id": "65c55a3e-f301-4a6a-9a94-b632d0c648d1",
   "metadata": {},
   "outputs": [
    {
     "name": "stdout",
     "output_type": "stream",
     "text": [
      "Age of the top passenger: 0.92\n"
     ]
    }
   ],
   "source": [
    "top_passenger = high_fare_age_srt.iloc[0]\n",
    "print(f\"Age of the top passenger: {top_passenger['Age']}\")"
   ]
  },
  {
   "cell_type": "code",
   "execution_count": 56,
   "id": "e48a82a5-d30e-42ab-8b40-49f760c37778",
   "metadata": {},
   "outputs": [
    {
     "name": "stdout",
     "output_type": "stream",
     "text": [
      "PassengerId                                 306\n",
      "Survived                                      1\n",
      "Pclass                                        1\n",
      "Name             Allison, Master. Hudson Trevor\n",
      "Sex                                        male\n",
      "Age                                        0.92\n",
      "SibSp                                         1\n",
      "Parch                                         2\n",
      "Ticket                                   113781\n",
      "Fare                                     151.55\n",
      "Cabin                                   C22 C26\n",
      "Embarked                                      S\n",
      "fare_per_year                        164.728261\n",
      "Name: 305, dtype: object\n"
     ]
    }
   ],
   "source": [
    "top_passenger_data = high_fare_age_srt.iloc[0]\n",
    "print(top_passenger_data)"
   ]
  },
  {
   "cell_type": "code",
   "execution_count": 63,
   "id": "7e003743-c2e3-4dfa-b720-938c730d65a3",
   "metadata": {},
   "outputs": [
    {
     "name": "stdout",
     "output_type": "stream",
     "text": [
      "      Age  fare_per_year\n",
      "305  0.92     164.728261\n",
      "297  2.00      75.775000\n",
      "386  1.00      46.900000\n",
      "164  1.00      39.687500\n",
      "183  1.00      39.000000\n",
      "827  1.00      37.004200\n",
      "78   0.83      34.939759\n",
      "469  0.75      25.677733\n",
      "644  0.75      25.677733\n",
      "831  0.83      22.590361\n",
      "755  0.67      21.641791\n",
      "788  1.00      20.575000\n",
      "445  4.00      20.464575\n",
      "803  0.42      20.277857\n",
      "824  2.00      19.843750\n",
      "381  1.00      15.741700\n",
      "119  2.00      15.637500\n",
      "16   2.00      14.562500\n",
      "642  2.00      13.950000\n",
      "43   3.00      13.859733\n",
      "340  2.00      13.000000\n",
      "530  2.00      13.000000\n",
      "172  1.00      11.133300\n",
      "7    2.00      10.537500\n",
      "261  3.00      10.462500\n",
      "618  4.00       9.750000\n",
      "193  3.00       8.666667\n",
      "850  4.00       7.818750\n",
      "171  4.00       7.281250\n",
      "374  3.00       7.025000\n",
      "63   4.00       6.975000\n",
      "407  3.00       6.250000\n",
      "479  2.00       6.143750\n",
      "750  4.00       5.750000\n",
      "184  4.00       5.506250\n",
      "348  3.00       5.300000\n",
      "205  2.00       5.231250\n"
     ]
    },
    {
     "data": {
      "image/png": "[encoded data removed]",
      "text/plain": [
       "<Figure size 1200x600 with 1 Axes>"
      ]
     },
     "metadata": {},
     "output_type": "display_data"
    }
   ],
   "source": [
    "age_filter = high_fare_age_srt[high_fare_age_srt['Age'] <= 4]\n",
    "result_age_fare = age_filter[['Age', 'fare_per_year']]\n",
    "print(result_age_fare)\n",
    "\n",
    "plt.figure(figsize=(12, 6))\n",
    "sns.barplot(x='Age', y='fare_per_year', data=result_age_fare)\n",
    "plt.title('Fare per Year by Age (Age <= 4)')\n",
    "plt.xlabel('Age')\n",
    "plt.ylabel('Fare per Year')\n",
    "plt.show()"
   ]
  },
  {
   "cell_type": "markdown",
   "id": "d1d050ca-d68b-406f-9931-c1e87ae4b389",
   "metadata": {},
   "source": [
    "The passenger with the age of 0.92 (Hudson Trevor) stands out significantly, as their fare_per_year is much higher than the rest of the passengers under 5 years of age."
   ]
  },
  {
   "cell_type": "markdown",
   "id": "970c8e89-f5e2-4b13-a588-d756483a2a45",
   "metadata": {},
   "source": [
    "### Which adult male passenger (age ≥ 18 and Sex is 'male') paid the highest fare relative to their class?"
   ]
  },
  {
   "cell_type": "code",
   "execution_count": 10,
   "id": "0c4e60af-dd5c-415b-ba1b-3d00ff0723f3",
   "metadata": {},
   "outputs": [
    {
     "name": "stdout",
     "output_type": "stream",
     "text": [
      "   Pclass     Fare  fare_per_class\n",
      "0       3   7.2500        2.416667\n",
      "1       1  71.2833       71.283300\n",
      "2       3   7.9250        2.641667\n",
      "3       1  53.1000       53.100000\n",
      "4       3   8.0500        2.683333\n"
     ]
    }
   ],
   "source": [
    "df_copy['fare_per_class'] = df_copy['Fare'] / df_copy['Pclass']\n",
    "print(df_copy[['Pclass', 'Fare', 'fare_per_class']].head())"
   ]
  },
  {
   "cell_type": "code",
   "execution_count": 11,
   "id": "4a684edd-bf78-46c1-a4ff-5936c2e12575",
   "metadata": {},
   "outputs": [
    {
     "name": "stdout",
     "output_type": "stream",
     "text": [
      "                              Name   Age   Sex  Pclass     Fare\n",
      "0          Braund, Mr. Owen Harris  22.0  male       3   7.2500\n",
      "4         Allen, Mr. William Henry  35.0  male       3   8.0500\n",
      "6          McCarthy, Mr. Timothy J  54.0  male       1  51.8625\n",
      "12  Saundercock, Mr. William Henry  20.0  male       3   8.0500\n",
      "13     Andersson, Mr. Anders Johan  39.0  male       3  31.2750\n"
     ]
    }
   ],
   "source": [
    "adult_males = df_copy[(df_copy['Sex'] == 'male') & (df_copy['Age'] >= 18)]\n",
    "print(adult_males[['Name', 'Age', 'Sex', 'Pclass', 'Fare']].head())"
   ]
  },
  {
   "cell_type": "code",
   "execution_count": 14,
   "id": "b1aef1d2-89c4-4dd7-8f75-5a1a0d24d48f",
   "metadata": {},
   "outputs": [
    {
     "name": "stdout",
     "output_type": "stream",
     "text": [
      "                                   Name   Age   Sex  Pclass      Fare  \\\n",
      "737              Lesurer, Mr. Gustave J  35.0  male       1  512.3292   \n",
      "679  Cardeza, Mr. Thomas Drake Martinez  36.0  male       1  512.3292   \n",
      "438                   Fortune, Mr. Mark  64.0  male       1  263.0000   \n",
      "27       Fortune, Mr. Charles Alexander  19.0  male       1  263.0000   \n",
      "118            Baxter, Mr. Quigg Edmond  24.0  male       1  247.5208   \n",
      "\n",
      "     fare_per_class  \n",
      "737        512.3292  \n",
      "679        512.3292  \n",
      "438        263.0000  \n",
      "27         263.0000  \n",
      "118        247.5208  \n"
     ]
    }
   ],
   "source": [
    "adult_males_srt = adult_males.sort_values(by='fare_per_class', ascending=False)\n",
    "print(adult_males_srt[['Name', 'Age', 'Sex', 'Pclass', 'Fare','fare_per_class']].head())"
   ]
  },
  {
   "cell_type": "code",
   "execution_count": 18,
   "id": "c2e93a83-a923-4f32-bb48-9f9b0e8d578f",
   "metadata": {},
   "outputs": [
    {
     "name": "stdout",
     "output_type": "stream",
     "text": [
      "                                   Name   Age  fare_per_class\n",
      "737              Lesurer, Mr. Gustave J  35.0        512.3292\n",
      "679  Cardeza, Mr. Thomas Drake Martinez  36.0        512.3292\n",
      "438                   Fortune, Mr. Mark  64.0        263.0000\n",
      "27       Fortune, Mr. Charles Alexander  19.0        263.0000\n",
      "118            Baxter, Mr. Quigg Edmond  24.0        247.5208\n",
      "..                                  ...   ...             ...\n",
      "806              Andrews, Mr. Thomas Jr  39.0          0.0000\n",
      "597                 Johnson, Mr. Alfred  49.0          0.0000\n",
      "263               Harrison, Mr. William  40.0          0.0000\n",
      "271        Tornquist, Mr. William Henry  25.0          0.0000\n",
      "822     Reuchlin, Jonkheer. John George  38.0          0.0000\n",
      "\n",
      "[395 rows x 3 columns]\n"
     ]
    }
   ],
   "source": [
    "result_1 = adult_males_srt[['Name', 'Age', 'fare_per_class']]\n",
    "print(result_1)"
   ]
  },
  {
   "cell_type": "code",
   "execution_count": 28,
   "id": "f899a8a8-0f61-430d-8d73-3bd644c9a565",
   "metadata": {},
   "outputs": [
    {
     "name": "stdout",
     "output_type": "stream",
     "text": [
      "PassengerId                          738\n",
      "Survived                               1\n",
      "Pclass                                 1\n",
      "Name              Lesurer, Mr. Gustave J\n",
      "Sex                                 male\n",
      "Age                                 35.0\n",
      "SibSp                                  0\n",
      "Parch                                  0\n",
      "Ticket                          PC 17755\n",
      "Fare                            512.3292\n",
      "Cabin                               B101\n",
      "Embarked                               C\n",
      "fare_per_class                  512.3292\n",
      "Name: 737, dtype: object\n"
     ]
    }
   ],
   "source": [
    "top_passenger = adult_males_srt.iloc[0]\n",
    "print(top_passenger)"
   ]
  },
  {
   "cell_type": "markdown",
   "id": "c7561ae5-11ff-4682-91ba-5545fe2d0033",
   "metadata": {},
   "source": [
    "Financially, first-class passengers contributed more. "
   ]
  },
  {
   "cell_type": "markdown",
   "id": "551cb254-20bb-4eb6-9071-0feb3c8845e7",
   "metadata": {},
   "source": [
    "# 3.3 Exploratory data analysis with group-by method"
   ]
  },
  {
   "cell_type": "markdown",
   "id": "c5d2d7ea-cdc4-43d9-ade5-7ed7ee4c72e7",
   "metadata": {},
   "source": [
    "## What percent of the total fare revenue came from each passenger class?"
   ]
  },
  {
   "cell_type": "code",
   "execution_count": 35,
   "id": "2791b8bd-5c9e-4b81-994c-c52356fa25ed",
   "metadata": {},
   "outputs": [
    {
     "name": "stdout",
     "output_type": "stream",
     "text": [
      "Total fare revenue: 28693.9493\n"
     ]
    }
   ],
   "source": [
    "total_fare = df_copy['Fare'].sum()\n",
    "print(f\"Total fare revenue: {total_fare}\")"
   ]
  },
  {
   "cell_type": "code",
   "execution_count": 31,
   "id": "99a5ca5c-2ae4-4f60-bb42-16fb3b9e02c2",
   "metadata": {},
   "outputs": [
    {
     "name": "stdout",
     "output_type": "stream",
     "text": [
      "Total fare for first class passengers: 18177.4125\n"
     ]
    }
   ],
   "source": [
    "first_class_passengers = df_copy[df_copy['Pclass'] == 1]\n",
    "total_fare_first_class = first_class_passengers['Fare'].sum()\n",
    "print(f\"Total fare for first class passengers: {total_fare_first_class}\")"
   ]
  },
  {
   "cell_type": "code",
   "execution_count": 32,
   "id": "5d4d8ce6-d784-4bab-b8d9-0098e8ca02dc",
   "metadata": {},
   "outputs": [
    {
     "name": "stdout",
     "output_type": "stream",
     "text": [
      "Total fare for second class passengers: 3801.8417\n"
     ]
    }
   ],
   "source": [
    "second_class_passengers = df_copy[df_copy['Pclass'] == 2]\n",
    "total_fare_second_class = second_class_passengers['Fare'].sum()\n",
    "print(f\"Total fare for second class passengers: {total_fare_second_class}\")"
   ]
  },
  {
   "cell_type": "code",
   "execution_count": 34,
   "id": "5c2efcb7-da40-4444-995c-c169a9740f04",
   "metadata": {},
   "outputs": [
    {
     "name": "stdout",
     "output_type": "stream",
     "text": [
      "Total fare for third class passengers: 6714.6951\n"
     ]
    }
   ],
   "source": [
    "third_class_passengers = df_copy[df_copy['Pclass'] == 3]\n",
    "total_fare_third_class = third_class_passengers['Fare'].sum()\n",
    "print(f\"Total fare for third class passengers: {total_fare_third_class}\")"
   ]
  },
  {
   "cell_type": "code",
   "execution_count": 37,
   "id": "16086f9f-9430-4d33-82a5-401dee58ac4b",
   "metadata": {},
   "outputs": [],
   "source": [
    "fare_total_of_1_2_3_class = [total_fare_first_class, total_fare_second_class, total_fare_third_class]"
   ]
  },
  {
   "cell_type": "code",
   "execution_count": 39,
   "id": "f1e34d3a-d09b-4dc0-a148-056e8f55c05c",
   "metadata": {},
   "outputs": [
    {
     "name": "stdout",
     "output_type": "stream",
     "text": [
      "Fare proportion by class: [np.float64(0.6334928771899656), np.float64(0.1324962855496507), np.float64(0.23401083726038366)]\n"
     ]
    }
   ],
   "source": [
    "fare_proportion = [total_fare_first_class / total_fare, total_fare_second_class / total_fare, total_fare_third_class / total_fare]\n",
    "print(f\"Fare proportion by class: {fare_proportion}\")"
   ]
  },
  {
   "cell_type": "code",
   "execution_count": 56,
   "id": "a53dc5b1-a4b3-4938-81a2-65909baa0330",
   "metadata": {},
   "outputs": [
    {
     "name": "stdout",
     "output_type": "stream",
     "text": [
      "Fare percentage by class: [np.float64(63.349287718996564), np.float64(13.24962855496507), np.float64(23.401083726038365)]\n"
     ]
    }
   ],
   "source": [
    "fare_percentage = [x * 100 for x in fare_proportion] #converting into percentage for clarity of data\n",
    "print(f\"Fare percentage by class: {fare_percentage}\")"
   ]
  },
  {
   "cell_type": "code",
   "execution_count": 45,
   "id": "3563498f-2371-4627-bc2b-ddd9824c5f6a",
   "metadata": {},
   "outputs": [
    {
     "data": {
      "image/png": "[encoded data removed]",
      "text/plain": [
       "<Figure size 800x600 with 1 Axes>"
      ]
     },
     "metadata": {},
     "output_type": "display_data"
    }
   ],
   "source": [
    "import matplotlib.pyplot as plt\n",
    "fare_percentage = [x * 100 for x in fare_proportion]\n",
    "labels_legend = ['First Class', 'Second Class', 'Third Class']\n",
    "labels = ['Pclass 1', 'Pclass 2', 'Pclass 3']\n",
    "\n",
    "plt.figure(figsize=(8, 6))\n",
    "plt.pie(fare_percentage, labels=labels, autopct='%1.1f%%', startangle=140)\n",
    "\n",
    "plt.legend(labels, title='Passenger Class', loc='best')\n",
    "\n",
    "plt.title('Percentage of Fare Revenue by Passenger Class')\n",
    "plt.show()"
   ]
  },
  {
   "cell_type": "code",
   "execution_count": 46,
   "id": "2a0f8cc1-b43e-4cff-9afd-6a30f37da69d",
   "metadata": {},
   "outputs": [
    {
     "name": "stdout",
     "output_type": "stream",
     "text": [
      "Population percentage by class: [np.float64(24.242424242424242), np.float64(20.65095398428732), np.float64(55.106621773288445)]\n"
     ]
    }
   ],
   "source": [
    "total_population = df_copy['Pclass'].value_counts()\n",
    "class_population = [total_population[1], total_population[2], total_population[3]]\n",
    "\n",
    "population_proportion = [x / sum(class_population) for x in class_population]\n",
    "population_percentage = [x * 100 for x in population_proportion]\n",
    "\n",
    "print(f\"Population percentage by class: {population_percentage}\")"
   ]
  },
  {
   "cell_type": "code",
   "execution_count": 47,
   "id": "e3c1f908-2803-459b-a381-9783f16b86b0",
   "metadata": {},
   "outputs": [
    {
     "data": {
      "image/png": "[encoded data removed]",
      "text/plain": [
       "<Figure size 800x600 with 1 Axes>"
      ]
     },
     "metadata": {},
     "output_type": "display_data"
    }
   ],
   "source": [
    "import matplotlib.pyplot as plt\n",
    "pop_percentage = [x * 100 for x in population_proportion]\n",
    "labels_legend = ['First Class', 'Second Class', 'Third Class']\n",
    "labels = ['Pclass 1', 'Pclass 2', 'Pclass 3']\n",
    "\n",
    "plt.figure(figsize=(8, 6))\n",
    "plt.pie(pop_percentage, labels=labels, autopct='%1.1f%%', startangle=140)\n",
    "\n",
    "plt.legend(labels, title='Passenger Class', loc='best')\n",
    "\n",
    "plt.title('Percentage of Passenger distribution by class')\n",
    "plt.show()"
   ]
  },
  {
   "cell_type": "markdown",
   "id": "9904b0c6-55e2-4223-8ce0-4c3efde40020",
   "metadata": {},
   "source": [
    "From the above visualizations, we can conclude that the revenue share shows that First Class passengers contributed the most, making up about 63% of the total fare revenue. This is because their tickets were the most expensive. Third Class passengers, despite being the largest group (about 55%), contributed only about 23% since their tickets were much cheaper. Second Class fell in between, contributing around 13%. This highlights how the cost of tickets influenced the revenue, with First Class dominating despite having fewer passengers (about 24%)."
   ]
  },
  {
   "cell_type": "markdown",
   "id": "be78114a-544a-41de-b427-3fd161e4cf5e",
   "metadata": {},
   "source": [
    "## What percent of the total number of passengers on the Titanic belonged to each age group (e.g., child, adult, senior)?"
   ]
  },
  {
   "cell_type": "code",
   "execution_count": 49,
   "id": "b1bf04f2-9776-4a91-98d8-427718981680",
   "metadata": {},
   "outputs": [
    {
     "data": {
      "text/html": [
       "<div>\n",
       "<style scoped>\n",
       "    .dataframe tbody tr th:only-of-type {\n",
       "        vertical-align: middle;\n",
       "    }\n",
       "\n",
       "    .dataframe tbody tr th {\n",
       "        vertical-align: top;\n",
       "    }\n",
       "\n",
       "    .dataframe thead th {\n",
       "        text-align: right;\n",
       "    }\n",
       "</style>\n",
       "<table border=\"1\" class=\"dataframe\">\n",
       "  <thead>\n",
       "    <tr style=\"text-align: right;\">\n",
       "      <th></th>\n",
       "      <th>PassengerId</th>\n",
       "      <th>Survived</th>\n",
       "      <th>Pclass</th>\n",
       "      <th>Name</th>\n",
       "      <th>Sex</th>\n",
       "      <th>Age</th>\n",
       "      <th>SibSp</th>\n",
       "      <th>Parch</th>\n",
       "      <th>Ticket</th>\n",
       "      <th>Fare</th>\n",
       "      <th>Cabin</th>\n",
       "      <th>Embarked</th>\n",
       "      <th>fare_per_class</th>\n",
       "      <th>fare_per_year</th>\n",
       "      <th>age_group</th>\n",
       "    </tr>\n",
       "  </thead>\n",
       "  <tbody>\n",
       "    <tr>\n",
       "      <th>0</th>\n",
       "      <td>1</td>\n",
       "      <td>0</td>\n",
       "      <td>3</td>\n",
       "      <td>Braund, Mr. Owen Harris</td>\n",
       "      <td>male</td>\n",
       "      <td>22.0</td>\n",
       "      <td>1</td>\n",
       "      <td>0</td>\n",
       "      <td>A/5 21171</td>\n",
       "      <td>7.2500</td>\n",
       "      <td>NaN</td>\n",
       "      <td>S</td>\n",
       "      <td>2.416667</td>\n",
       "      <td>0.329545</td>\n",
       "      <td>adult</td>\n",
       "    </tr>\n",
       "    <tr>\n",
       "      <th>1</th>\n",
       "      <td>2</td>\n",
       "      <td>1</td>\n",
       "      <td>1</td>\n",
       "      <td>Cumings, Mrs. John Bradley (Florence Briggs Th...</td>\n",
       "      <td>female</td>\n",
       "      <td>38.0</td>\n",
       "      <td>1</td>\n",
       "      <td>0</td>\n",
       "      <td>PC 17599</td>\n",
       "      <td>71.2833</td>\n",
       "      <td>C85</td>\n",
       "      <td>C</td>\n",
       "      <td>71.283300</td>\n",
       "      <td>1.875876</td>\n",
       "      <td>adult</td>\n",
       "    </tr>\n",
       "    <tr>\n",
       "      <th>2</th>\n",
       "      <td>3</td>\n",
       "      <td>1</td>\n",
       "      <td>3</td>\n",
       "      <td>Heikkinen, Miss. Laina</td>\n",
       "      <td>female</td>\n",
       "      <td>26.0</td>\n",
       "      <td>0</td>\n",
       "      <td>0</td>\n",
       "      <td>STON/O2. 3101282</td>\n",
       "      <td>7.9250</td>\n",
       "      <td>NaN</td>\n",
       "      <td>S</td>\n",
       "      <td>2.641667</td>\n",
       "      <td>0.304808</td>\n",
       "      <td>adult</td>\n",
       "    </tr>\n",
       "    <tr>\n",
       "      <th>3</th>\n",
       "      <td>4</td>\n",
       "      <td>1</td>\n",
       "      <td>1</td>\n",
       "      <td>Futrelle, Mrs. Jacques Heath (Lily May Peel)</td>\n",
       "      <td>female</td>\n",
       "      <td>35.0</td>\n",
       "      <td>1</td>\n",
       "      <td>0</td>\n",
       "      <td>113803</td>\n",
       "      <td>53.1000</td>\n",
       "      <td>C123</td>\n",
       "      <td>S</td>\n",
       "      <td>53.100000</td>\n",
       "      <td>1.517143</td>\n",
       "      <td>adult</td>\n",
       "    </tr>\n",
       "    <tr>\n",
       "      <th>4</th>\n",
       "      <td>5</td>\n",
       "      <td>0</td>\n",
       "      <td>3</td>\n",
       "      <td>Allen, Mr. William Henry</td>\n",
       "      <td>male</td>\n",
       "      <td>35.0</td>\n",
       "      <td>0</td>\n",
       "      <td>0</td>\n",
       "      <td>373450</td>\n",
       "      <td>8.0500</td>\n",
       "      <td>NaN</td>\n",
       "      <td>S</td>\n",
       "      <td>2.683333</td>\n",
       "      <td>0.230000</td>\n",
       "      <td>adult</td>\n",
       "    </tr>\n",
       "    <tr>\n",
       "      <th>5</th>\n",
       "      <td>6</td>\n",
       "      <td>0</td>\n",
       "      <td>3</td>\n",
       "      <td>Moran, Mr. James</td>\n",
       "      <td>male</td>\n",
       "      <td>NaN</td>\n",
       "      <td>0</td>\n",
       "      <td>0</td>\n",
       "      <td>330877</td>\n",
       "      <td>8.4583</td>\n",
       "      <td>NaN</td>\n",
       "      <td>Q</td>\n",
       "      <td>2.819433</td>\n",
       "      <td>NaN</td>\n",
       "      <td>adult</td>\n",
       "    </tr>\n",
       "    <tr>\n",
       "      <th>6</th>\n",
       "      <td>7</td>\n",
       "      <td>0</td>\n",
       "      <td>1</td>\n",
       "      <td>McCarthy, Mr. Timothy J</td>\n",
       "      <td>male</td>\n",
       "      <td>54.0</td>\n",
       "      <td>0</td>\n",
       "      <td>0</td>\n",
       "      <td>17463</td>\n",
       "      <td>51.8625</td>\n",
       "      <td>E46</td>\n",
       "      <td>S</td>\n",
       "      <td>51.862500</td>\n",
       "      <td>0.960417</td>\n",
       "      <td>adult</td>\n",
       "    </tr>\n",
       "    <tr>\n",
       "      <th>7</th>\n",
       "      <td>8</td>\n",
       "      <td>0</td>\n",
       "      <td>3</td>\n",
       "      <td>Palsson, Master. Gosta Leonard</td>\n",
       "      <td>male</td>\n",
       "      <td>2.0</td>\n",
       "      <td>3</td>\n",
       "      <td>1</td>\n",
       "      <td>349909</td>\n",
       "      <td>21.0750</td>\n",
       "      <td>NaN</td>\n",
       "      <td>S</td>\n",
       "      <td>7.025000</td>\n",
       "      <td>10.537500</td>\n",
       "      <td>child</td>\n",
       "    </tr>\n",
       "    <tr>\n",
       "      <th>8</th>\n",
       "      <td>9</td>\n",
       "      <td>1</td>\n",
       "      <td>3</td>\n",
       "      <td>Johnson, Mrs. Oscar W (Elisabeth Vilhelmina Berg)</td>\n",
       "      <td>female</td>\n",
       "      <td>27.0</td>\n",
       "      <td>0</td>\n",
       "      <td>2</td>\n",
       "      <td>347742</td>\n",
       "      <td>11.1333</td>\n",
       "      <td>NaN</td>\n",
       "      <td>S</td>\n",
       "      <td>3.711100</td>\n",
       "      <td>0.412344</td>\n",
       "      <td>adult</td>\n",
       "    </tr>\n",
       "    <tr>\n",
       "      <th>9</th>\n",
       "      <td>10</td>\n",
       "      <td>1</td>\n",
       "      <td>2</td>\n",
       "      <td>Nasser, Mrs. Nicholas (Adele Achem)</td>\n",
       "      <td>female</td>\n",
       "      <td>14.0</td>\n",
       "      <td>1</td>\n",
       "      <td>0</td>\n",
       "      <td>237736</td>\n",
       "      <td>30.0708</td>\n",
       "      <td>NaN</td>\n",
       "      <td>C</td>\n",
       "      <td>15.035400</td>\n",
       "      <td>2.147914</td>\n",
       "      <td>child</td>\n",
       "    </tr>\n",
       "  </tbody>\n",
       "</table>\n",
       "</div>"
      ],
      "text/plain": [
       "   PassengerId  Survived  Pclass  \\\n",
       "0            1         0       3   \n",
       "1            2         1       1   \n",
       "2            3         1       3   \n",
       "3            4         1       1   \n",
       "4            5         0       3   \n",
       "5            6         0       3   \n",
       "6            7         0       1   \n",
       "7            8         0       3   \n",
       "8            9         1       3   \n",
       "9           10         1       2   \n",
       "\n",
       "                                                Name     Sex   Age  SibSp  \\\n",
       "0                            Braund, Mr. Owen Harris    male  22.0      1   \n",
       "1  Cumings, Mrs. John Bradley (Florence Briggs Th...  female  38.0      1   \n",
       "2                             Heikkinen, Miss. Laina  female  26.0      0   \n",
       "3       Futrelle, Mrs. Jacques Heath (Lily May Peel)  female  35.0      1   \n",
       "4                           Allen, Mr. William Henry    male  35.0      0   \n",
       "5                                   Moran, Mr. James    male   NaN      0   \n",
       "6                            McCarthy, Mr. Timothy J    male  54.0      0   \n",
       "7                     Palsson, Master. Gosta Leonard    male   2.0      3   \n",
       "8  Johnson, Mrs. Oscar W (Elisabeth Vilhelmina Berg)  female  27.0      0   \n",
       "9                Nasser, Mrs. Nicholas (Adele Achem)  female  14.0      1   \n",
       "\n",
       "   Parch            Ticket     Fare Cabin Embarked  fare_per_class  \\\n",
       "0      0         A/5 21171   7.2500   NaN        S        2.416667   \n",
       "1      0          PC 17599  71.2833   C85        C       71.283300   \n",
       "2      0  STON/O2. 3101282   7.9250   NaN        S        2.641667   \n",
       "3      0            113803  53.1000  C123        S       53.100000   \n",
       "4      0            373450   8.0500   NaN        S        2.683333   \n",
       "5      0            330877   8.4583   NaN        Q        2.819433   \n",
       "6      0             17463  51.8625   E46        S       51.862500   \n",
       "7      1            349909  21.0750   NaN        S        7.025000   \n",
       "8      2            347742  11.1333   NaN        S        3.711100   \n",
       "9      0            237736  30.0708   NaN        C       15.035400   \n",
       "\n",
       "   fare_per_year age_group  \n",
       "0       0.329545     adult  \n",
       "1       1.875876     adult  \n",
       "2       0.304808     adult  \n",
       "3       1.517143     adult  \n",
       "4       0.230000     adult  \n",
       "5            NaN     adult  \n",
       "6       0.960417     adult  \n",
       "7      10.537500     child  \n",
       "8       0.412344     adult  \n",
       "9       2.147914     child  "
      ]
     },
     "execution_count": 49,
     "metadata": {},
     "output_type": "execute_result"
    }
   ],
   "source": [
    "def categorize_age(age):\n",
    "    if age < 18:\n",
    "        return 'child'\n",
    "    elif age >= 65:\n",
    "        return 'senior'\n",
    "    else:\n",
    "        return 'adult'\n",
    "\n",
    "df_copy['age_group'] = df_copy['Age'].apply(categorize_age)\n",
    "df_copy.head(10)"
   ]
  },
  {
   "cell_type": "code",
   "execution_count": 50,
   "id": "7aaef0d4-c9db-4331-84d2-f0390fd3eaf1",
   "metadata": {},
   "outputs": [
    {
     "name": "stdout",
     "output_type": "stream",
     "text": [
      "Total number of passengers: 891\n"
     ]
    }
   ],
   "source": [
    "total_passengers = df_copy.shape[0] #Return a tuple representing the dimensionality of the DataFrame with index 0 we are trying to access the no of rows. \n",
    "print(f\"Total number of passengers: {total_passengers}\")"
   ]
  },
  {
   "cell_type": "code",
   "execution_count": 51,
   "id": "794cd0a5-b42a-4ebb-8ca0-8aac100e9488",
   "metadata": {},
   "outputs": [
    {
     "name": "stdout",
     "output_type": "stream",
     "text": [
      "age_group\n",
      "adult     767\n",
      "child     113\n",
      "senior     11\n",
      "Name: age_group, dtype: int64\n"
     ]
    }
   ],
   "source": [
    "age_group_counts = df_copy.groupby('age_group')['age_group'].count()\n",
    "print(age_group_counts)"
   ]
  },
  {
   "cell_type": "code",
   "execution_count": 53,
   "id": "e8c3dfce-888b-4bcd-9d38-286ee3a9d167",
   "metadata": {},
   "outputs": [
    {
     "name": "stdout",
     "output_type": "stream",
     "text": [
      "Proportion of passengers in each age group:\n",
      " age_group\n",
      "adult     0.860831\n",
      "child     0.126824\n",
      "senior    0.012346\n",
      "Name: age_group, dtype: float64\n"
     ]
    }
   ],
   "source": [
    "age_group_proportion = age_group_counts / total_passengers\n",
    "print(f\"Proportion of passengers in each age group:\\n {age_group_proportion}\")"
   ]
  },
  {
   "cell_type": "code",
   "execution_count": 54,
   "id": "26403c1f-f7d8-4079-bb12-3a58b2c113b0",
   "metadata": {},
   "outputs": [
    {
     "name": "stdout",
     "output_type": "stream",
     "text": [
      "Pecentage of passengers in each age group:\n",
      " age_group\n",
      "adult     86.083053\n",
      "child     12.682379\n",
      "senior     1.234568\n",
      "Name: age_group, dtype: float64\n"
     ]
    }
   ],
   "source": [
    "age_group_percentage = age_group_proportion * 100\n",
    "print(f\"Pecentage of passengers in each age group:\\n {age_group_percentage}\")"
   ]
  },
  {
   "cell_type": "code",
   "execution_count": 55,
   "id": "ea8dc1ce-4726-4d8f-aa80-82e8b58450f6",
   "metadata": {},
   "outputs": [
    {
     "data": {
      "image/png": "[encoded data removed]",
      "text/plain": [
       "<Figure size 640x480 with 1 Axes>"
      ]
     },
     "metadata": {},
     "output_type": "display_data"
    }
   ],
   "source": [
    "age_group_percentage.plot(kind='pie', autopct='%1.1f%%', labels=age_group_percentage.index, legend=True)\n",
    "plt.title('Percentage of Passengers by Age Group')\n",
    "plt.ylabel('')\n",
    "plt.show()"
   ]
  },
  {
   "cell_type": "markdown",
   "id": "aa12d96e-9ddf-442b-a9ca-a52af0befcd8",
   "metadata": {},
   "source": [
    "### Conclusion:\n",
    "\n",
    "From the visualization, we can see that the majority of passengers on the Titanic were adults, making up approximately 86.08% of the total passengers. Children accounted for about 12.68%, which is a much smaller proportion, while seniors made up only 1.23% of the passengers.  \n",
    "\n",
    "This suggests that the Titanic had very few senior passengers compared to children and adults, with adults overwhelmingly dominating the population."
   ]
  }
 ],
 "metadata": {
  "kernelspec": {
   "display_name": "Python 3 (ipykernel)",
   "language": "python",
   "name": "python3"
  },
  "language_info": {
   "codemirror_mode": {
    "name": "ipython",
    "version": 3
   },
   "file_extension": ".py",
   "mimetype": "text/x-python",
   "name": "python",
   "nbconvert_exporter": "python",
   "pygments_lexer": "ipython3",
   "version": "3.13.0"
  }
 },
 "nbformat": 4,
 "nbformat_minor": 5
}
