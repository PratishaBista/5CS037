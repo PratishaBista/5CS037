{
 "cells": [
  {
   "cell_type": "code",
   "execution_count": 1,
   "id": "35c1818a-25dc-4ec7-9e92-25d3a0d86e9c",
   "metadata": {},
   "outputs": [],
   "source": [
    "import numpy as np\n",
    "import pandas as pd\n",
    "import matplotlib.pyplot as plt\n",
    "import seaborn as sns\n",
    "from sklearn.model_selection import train_test_split\n",
    "from sklearn.preprocessing import StandardScaler\n",
    "from sklearn.metrics import accuracy_score"
   ]
  },
  {
   "cell_type": "code",
   "execution_count": 2,
   "id": "f53ccb95-a4b4-4818-9b85-3601c6ad1b28",
   "metadata": {},
   "outputs": [
    {
     "name": "stdout",
     "output_type": "stream",
     "text": [
      "   PassengerId  Survived  Pclass  \\\n",
      "0            1         0       3   \n",
      "1            2         1       1   \n",
      "2            3         1       3   \n",
      "3            4         1       1   \n",
      "4            5         0       3   \n",
      "\n",
      "                                                Name     Sex   Age  SibSp  \\\n",
      "0                            Braund, Mr. Owen Harris    male  22.0      1   \n",
      "1  Cumings, Mrs. John Bradley (Florence Briggs Th...  female  38.0      1   \n",
      "2                             Heikkinen, Miss. Laina  female  26.0      0   \n",
      "3       Futrelle, Mrs. Jacques Heath (Lily May Peel)  female  35.0      1   \n",
      "4                           Allen, Mr. William Henry    male  35.0      0   \n",
      "\n",
      "   Parch            Ticket     Fare Cabin Embarked  \n",
      "0      0         A/5 21171   7.2500   NaN        S  \n",
      "1      0          PC 17599  71.2833   C85        C  \n",
      "2      0  STON/O2. 3101282   7.9250   NaN        S  \n",
      "3      0            113803  53.1000  C123        S  \n",
      "4      0            373450   8.0500   NaN        S  \n"
     ]
    }
   ],
   "source": [
    "data = pd.read_csv('titanic.csv')\n",
    "print(data.head())"
   ]
  },
  {
   "cell_type": "code",
   "execution_count": 3,
   "id": "329225fd-193a-48f5-a281-e5029a3ec574",
   "metadata": {},
   "outputs": [
    {
     "name": "stdout",
     "output_type": "stream",
     "text": [
      "Before encoding: Index(['PassengerId', 'Survived', 'Pclass', 'Name', 'Sex', 'Age', 'SibSp',\n",
      "       'Parch', 'Ticket', 'Fare', 'Cabin', 'Embarked'],\n",
      "      dtype='object')\n",
      "Columns after encoding: Index(['PassengerId', 'Survived', 'Pclass', 'Name', 'Sex', 'Age', 'SibSp',\n",
      "       'Parch', 'Ticket', 'Fare', 'Cabin', 'Embarked_Q', 'Embarked_S'],\n",
      "      dtype='object')\n"
     ]
    },
    {
     "name": "stderr",
     "output_type": "stream",
     "text": [
      "C:\\Users\\USER\\AppData\\Local\\Temp\\ipykernel_14108\\1141567994.py:3: FutureWarning: A value is trying to be set on a copy of a DataFrame or Series through chained assignment using an inplace method.\n",
      "The behavior will change in pandas 3.0. This inplace method will never work because the intermediate object on which we are setting values always behaves as a copy.\n",
      "\n",
      "For example, when doing 'df[col].method(value, inplace=True)', try using 'df.method({col: value}, inplace=True)' or df[col] = df[col].method(value) instead, to perform the operation inplace on the original object.\n",
      "\n",
      "\n",
      "  data['Age'].fillna(data['Age'].median(), inplace=True)\n",
      "C:\\Users\\USER\\AppData\\Local\\Temp\\ipykernel_14108\\1141567994.py:4: FutureWarning: A value is trying to be set on a copy of a DataFrame or Series through chained assignment using an inplace method.\n",
      "The behavior will change in pandas 3.0. This inplace method will never work because the intermediate object on which we are setting values always behaves as a copy.\n",
      "\n",
      "For example, when doing 'df[col].method(value, inplace=True)', try using 'df.method({col: value}, inplace=True)' or df[col] = df[col].method(value) instead, to perform the operation inplace on the original object.\n",
      "\n",
      "\n",
      "  data['Embarked'].fillna(data['Embarked'].mode()[0], inplace=True)\n"
     ]
    }
   ],
   "source": [
    "print(\"Before encoding:\", data.columns)\n",
    "\n",
    "data['Age'].fillna(data['Age'].median(), inplace=True)\n",
    "data['Embarked'].fillna(data['Embarked'].mode()[0], inplace=True)\n",
    "\n",
    "data['Sex'] = data['Sex'].map({'male': 0, 'female': 1})\n",
    "#one hot encoding for embarked column\n",
    "data = pd.get_dummies(data, columns=['Embarked'], drop_first=True) \n",
    "\n",
    "print(\"Columns after encoding:\", data.columns)"
   ]
  },
  {
   "cell_type": "code",
   "execution_count": 4,
   "id": "55f13acb-3b96-4981-8cf1-93685f52e17a",
   "metadata": {},
   "outputs": [
    {
     "name": "stdout",
     "output_type": "stream",
     "text": [
      "X_train shape: (712, 5)\n",
      "X_test shape: (179, 5)\n",
      "y_train shape: (712, 3)\n",
      "y_test shape: (179, 3)\n",
      "     Embarked_Q  Embarked_S\n",
      "331           0           1\n",
      "733           0           1\n",
      "382           0           1\n",
      "704           0           1\n",
      "813           0           1\n"
     ]
    }
   ],
   "source": [
    "\n",
    "X = data[['Age', 'Fare', 'Sex'] + [col for col in data.columns if 'Embarked' in col]] #features\n",
    "y = data['Pclass'] #target variable\n",
    "\n",
    "#One-hot encode the target variable (Pclass)\n",
    "y_one_hot = pd.get_dummies(y, prefix='Pclass')\n",
    "\n",
    "#Split the data into training and testing sets\n",
    "X_train, X_test, y_train, y_test = train_test_split(X, y_one_hot, test_size=0.2, random_state=42)\n",
    "\n",
    "#checking the shapes of train and test sets\n",
    "print(\"X_train shape:\", X_train.shape)\n",
    "print(\"X_test shape:\", X_test.shape)\n",
    "print(\"y_train shape:\", y_train.shape)\n",
    "print(\"y_test shape:\", y_test.shape)\n",
    "\n",
    "#converting true/false into 1 or 0 using astype()\n",
    "X_train[['Embarked_Q', 'Embarked_S']] = X_train[['Embarked_Q', 'Embarked_S']].astype(int)\n",
    "X_test[['Embarked_Q', 'Embarked_S']] = X_test[['Embarked_Q', 'Embarked_S']].astype(int)\n",
    "\n",
    "#after updates\n",
    "print(X_train[['Embarked_Q', 'Embarked_S']].head())"
   ]
  },
  {
   "cell_type": "code",
   "execution_count": 5,
   "id": "a8c39377-f583-433b-b59a-075a464bc9d4",
   "metadata": {},
   "outputs": [
    {
     "name": "stdout",
     "output_type": "stream",
     "text": [
      "          Age      Fare  Sex  Embarked_Q  Embarked_S\n",
      "331  1.253641 -0.078684    0           0           1\n",
      "733 -0.477284 -0.377145    0           0           1\n",
      "382  0.215086 -0.474867    0           0           1\n",
      "704 -0.246494 -0.476230    0           0           1\n",
      "813 -1.785093 -0.025249    1           0           1\n",
      "NaNs in X_train: Age           0\n",
      "Fare          0\n",
      "Sex           0\n",
      "Embarked_Q    0\n",
      "Embarked_S    0\n",
      "dtype: int64\n",
      "NaNs in X_test: Age           0\n",
      "Fare          0\n",
      "Sex           0\n",
      "Embarked_Q    0\n",
      "Embarked_S    0\n",
      "dtype: int64\n"
     ]
    }
   ],
   "source": [
    "scaler = StandardScaler()\n",
    "\n",
    "X_train[['Age', 'Fare']] = scaler.fit_transform(X_train[['Age', 'Fare']])\n",
    "X_test[['Age', 'Fare']] = scaler.transform(X_test[['Age', 'Fare']])\n",
    "\n",
    "print(X_train.head())\n",
    "\n",
    "print(\"NaNs in X_train:\", np.isnan(X_train).sum())\n",
    "print(\"NaNs in X_test:\", np.isnan(X_test).sum())"
   ]
  },
  {
   "cell_type": "code",
   "execution_count": 22,
   "id": "244dfe5b-4ed1-47b5-a3d9-ec81fea62d91",
   "metadata": {},
   "outputs": [
    {
     "name": "stdout",
     "output_type": "stream",
     "text": [
      "X shape: (891, 5)\n",
      "X columns: Index(['Age', 'Fare', 'Sex', 'Embarked_Q', 'Embarked_S'], dtype='object')\n",
      "y head:\n",
      "0    3\n",
      "1    1\n",
      "2    3\n",
      "3    1\n",
      "4    3\n",
      "Name: Pclass, dtype: int64\n",
      "Unique values in y:\n",
      "[3 1 2]\n",
      "Target column name:\n",
      "Pclass\n"
     ]
    }
   ],
   "source": [
    "print(\"X shape:\", X.shape)\n",
    "print(\"X columns:\", X.columns)\n",
    "print(\"y head:\")\n",
    "print(y.head())\n",
    "\n",
    "print(\"Unique values in y:\")\n",
    "print(y.unique())\n",
    "\n",
    "print(\"Target column name:\")\n",
    "print(y.name)\n"
   ]
  },
  {
   "cell_type": "code",
   "execution_count": 8,
   "id": "56f97677-d05c-4fa7-8469-fb7071ed10b6",
   "metadata": {},
   "outputs": [],
   "source": [
    "def softmax(scores):\n",
    "    \"\"\"\n",
    "    Compute the softmax probabilities from raw model scores (logits).\n",
    "    \n",
    "    Args:\n",
    "    - scores (numpy.ndarray): Raw output scores (shape: (num_samples, num_classes))\n",
    "\n",
    "    Returns:\n",
    "    - probs (numpy.ndarray): The computed softmax probabilities (shape: (num_samples, num_classes))\n",
    "    \"\"\"\n",
    "    # Stabilize exponentiation by subtracting the maximum score in each row\n",
    "    exp_scores = np.exp(scores - np.max(scores, axis=1, keepdims=True))\n",
    "    return exp_scores / np.sum(exp_scores, axis=1, keepdims=True)"
   ]
  },
  {
   "cell_type": "code",
   "execution_count": 9,
   "id": "24526e28-df99-4943-b8eb-474875403646",
   "metadata": {},
   "outputs": [
    {
     "name": "stdout",
     "output_type": "stream",
     "text": [
      "[[0.41474187 0.30724834 0.27800979]\n",
      " [0.38435576 0.19086542 0.42477881]]\n",
      "test case passed!\n"
     ]
    }
   ],
   "source": [
    "def test_softmax():\n",
    "    scores = np.array([[1.2, 0.9, 0.8], [1.1, 0.4, 1.2]])\n",
    "    probs = softmax(scores)\n",
    "    assert np.allclose(np.sum(probs, axis=1), 1), \"Test failed: Softmax probabilities don't sum to 1\"\n",
    "    print(softmax(scores))\n",
    "    print(\"test case passed!\")\n",
    "test_softmax()"
   ]
  },
  {
   "cell_type": "code",
   "execution_count": 10,
   "id": "5429904c-0d8f-4276-8cc0-55fd8b2e9fe5",
   "metadata": {},
   "outputs": [],
   "source": [
    "def cross_entropy_loss(y_true, y_pred):\n",
    "    \"\"\"\n",
    "    Computes the cross-entropy loss between the true labels (y_true) and the predicted probabilities (y_pred).\n",
    "    \n",
    "    Args:\n",
    "    - y_true (numpy.ndarray): One-hot encoded true labels (shape: (num_samples, num_classes))\n",
    "    - y_pred (numpy.ndarray): Predicted probabilities (shape: (num_samples, num_classes))\n",
    "    \n",
    "    Returns:\n",
    "    - loss (float): The computed cross-entropy loss\n",
    "    \"\"\"\n",
    "    y_pred = np.clip(y_pred, 1e-15 , 1 - 1e-15 )  # Avoid numerical issues with log(0)\n",
    "    cost = -np.sum(y_true * np.log(y_pred)) / y_true.shape[0]\n",
    "    return cost"
   ]
  },
  {
   "cell_type": "code",
   "execution_count": 11,
   "id": "1abbfa3d-d48e-4f91-ae78-5d5d5cca506d",
   "metadata": {},
   "outputs": [
    {
     "name": "stdout",
     "output_type": "stream",
     "text": [
      "0.35667494393873245\n",
      "test case passed!\n"
     ]
    }
   ],
   "source": [
    "def test_cross_entropy_loss():\n",
    "    y_true = np.array([[1, 0, 0], [0, 1, 0]])\n",
    "    y_pred = np.array([[0.7, 0.2, 0.1], [0.2, 0.7, 0.1]])\n",
    "    cost = cross_entropy_loss(y_true, y_pred)\n",
    "    assert cost >= 0, \"Test failed: Loss should be non-negative\"\n",
    "    print(cross_entropy_loss(y_true, y_pred))\n",
    "    print(\"test case passed!\")\n",
    "test_cross_entropy_loss()"
   ]
  },
  {
   "cell_type": "code",
   "execution_count": 12,
   "id": "4012b807-cdf0-4da9-992a-dc559e04ebaf",
   "metadata": {},
   "outputs": [],
   "source": [
    "def compute_gradients(X, Y, probs):\n",
    "    \"\"\"\n",
    "    Compute the gradients of the loss function with respect to weights and biases.\n",
    "    \n",
    "    Args:\n",
    "    - X (numpy.ndarray): Feature matrix (shape: (num_samples, num_features))\n",
    "    - Y (numpy.ndarray): One-hot encoded true labels (shape: (num_samples, num_classes))\n",
    "    - probs (numpy.ndarray): Predicted probabilities from softmax (shape: (num_samples, num_classes))\n",
    "    \n",
    "    Returns:\n",
    "    - grad_W (numpy.ndarray): Gradient of loss with respect to weights (shape: (num_features, num_classes))\n",
    "    - grad_b (numpy.ndarray): Gradient of loss with respect to biases (shape: (1, num_classes))\n",
    "    \"\"\"\n",
    "    num_samples = X.shape[0]\n",
    "    grad_W = np.dot(X.T, (probs - Y)) / num_samples\n",
    "    grad_b = np.sum(probs - Y, axis=0, keepdims=True) / num_samples\n",
    "    return grad_W, grad_b"
   ]
  },
  {
   "cell_type": "code",
   "execution_count": 13,
   "id": "b9aeba2b-456a-4103-adae-4e4bb723396e",
   "metadata": {},
   "outputs": [
    {
     "name": "stdout",
     "output_type": "stream",
     "text": [
      "Gradient W: (3, 3)\n",
      "Gradient b: (1, 3)\n",
      "test case passed!\n"
     ]
    }
   ],
   "source": [
    "def test_compute_gradients():\n",
    "    X = np.random.randn(5, 3)  # Sample data\n",
    "    Y = np.random.randint(0, 2, (5, 3)) \n",
    "    probs = np.random.rand(5, 3)  \n",
    "    grad_W, grad_b = compute_gradients(X, Y, probs)\n",
    "    assert grad_W.shape == (X.shape[1], Y.shape[1]), \"Test failed: Gradient W has incorrect shape\"\n",
    "    assert grad_b.shape == (1, Y.shape[1]), \"Test failed: Gradient b has incorrect shape\"\n",
    "    print(\"Gradient W:\", grad_W.shape)\n",
    "    print(\"Gradient b:\", grad_b.shape)\n",
    "    print(\"test case passed!\")\n",
    "test_compute_gradients()"
   ]
  },
  {
   "cell_type": "code",
   "execution_count": 14,
   "id": "5f016bc1-8d1d-4563-9c9f-708f08a0a624",
   "metadata": {},
   "outputs": [],
   "source": [
    "def softmax_regression(X, Y, alpha=0.01, epochs=1000):\n",
    "    \"\"\"\n",
    "    Perform softmax regression on the dataset.\n",
    "    \n",
    "    Args:\n",
    "    - X (numpy.ndarray): Feature matrix (shape: (num_samples, num_features))\n",
    "    - Y (numpy.ndarray): One-hot encoded true labels (shape: (num_samples, num_classes))\n",
    "    - alpha (float): Learning rate for gradient descent\n",
    "    - epochs (int): Number of iterations to train the model\n",
    "    \n",
    "    Returns:\n",
    "    - W (numpy.ndarray): Learned weights (shape: (num_features, num_classes))\n",
    "    - b (numpy.ndarray): Learned biases (shape: (1, num_classes))\n",
    "    - loss_history (list): List of loss values recorded during training\n",
    "    \"\"\"\n",
    "    \n",
    "    W = np.random.randn(X.shape[1], Y.shape[1])\n",
    "    b = np.zeros((1, Y.shape[1]))\n",
    "\n",
    "    loss_history = []  \n",
    "\n",
    "    for epoch in range(epochs):\n",
    "        \n",
    "        scores = np.dot(X, W) + b\n",
    "        probs = softmax(scores) \n",
    "\n",
    "        loss = cross_entropy_loss(Y, probs)\n",
    "        loss_history.append(loss) \n",
    "\n",
    "        # Compute gradients\n",
    "        grad_W, grad_b = compute_gradients(X, Y, probs)\n",
    "\n",
    "        # Update weights and biases using gradient descent\n",
    "        W -= alpha * grad_W\n",
    "        b -= alpha * grad_b\n",
    "\n",
    "        # Optionally, print loss every 100 iterations for debugging\n",
    "        if epoch % 100 == 0:\n",
    "            print(f'Epoch {epoch}, Loss: {loss}')\n",
    "\n",
    "    return W, b, loss_history"
   ]
  },
  {
   "cell_type": "code",
   "execution_count": 15,
   "id": "62ce612c-3af4-4eab-950d-800912ef560e",
   "metadata": {},
   "outputs": [
    {
     "name": "stdout",
     "output_type": "stream",
     "text": [
      "test_softmax passed!\n"
     ]
    }
   ],
   "source": [
    "# Test: Softmax Function\n",
    "def test_softmax():\n",
    "    scores = np.array([[1.2, 0.9, 0.8], [1.1, 0.4, 1.2]])\n",
    "    probs = softmax(scores)\n",
    "    assert np.allclose(np.sum(probs, axis=1), 1), \"Test failed: Softmax probabilities don't sum to 1\"\n",
    "    print(\"test_softmax passed!\")\n",
    "test_softmax()   "
   ]
  },
  {
   "cell_type": "code",
   "execution_count": 16,
   "id": "24cc883c-a3c0-4cf3-9619-d1dc11533e71",
   "metadata": {},
   "outputs": [
    {
     "name": "stdout",
     "output_type": "stream",
     "text": [
      "Epoch 0, Loss: 1.8268846046456488\n",
      "Epoch 100, Loss: 1.277658820816068\n",
      "Epoch 200, Loss: 1.0050400704354667\n",
      "Epoch 300, Loss: 0.8825553840981946\n",
      "Epoch 400, Loss: 0.8200123469557858\n",
      "Epoch 500, Loss: 0.7827849144009206\n",
      "Epoch 600, Loss: 0.7580473358248473\n",
      "Epoch 700, Loss: 0.7402372545102237\n",
      "Epoch 800, Loss: 0.7266499440094429\n",
      "Epoch 900, Loss: 0.7158406046204941\n"
     ]
    },
    {
     "data": {
      "image/png": "[encoded data removed]",
      "text/plain": [
       "<Figure size 640x480 with 1 Axes>"
      ]
     },
     "metadata": {},
     "output_type": "display_data"
    }
   ],
   "source": [
    "# Convert training data to NumPy arrays\n",
    "X_train_np = X_train.to_numpy()  # or X_train.values\n",
    "y_train_np = y_train.to_numpy()  # Ensure one-hot encoded labels\n",
    "\n",
    "# Perform softmax regression\n",
    "W, b, loss_history = softmax_regression(X_train_np, y_train_np, alpha=0.01, epochs=1000)\n",
    "\n",
    "# Plot the loss curve\n",
    "def plot_loss_curve(loss_history):\n",
    "    \"\"\"\n",
    "    Plots the loss curve using the recorded loss history.\n",
    "\n",
    "    Args:\n",
    "    - loss_history (list): List of loss values over epochs.\n",
    "    \"\"\"\n",
    "    plt.plot(loss_history, color='blue', label='Training Loss')\n",
    "    plt.title('Loss Curve')\n",
    "    plt.xlabel('Epochs')\n",
    "    plt.ylabel('Loss')\n",
    "    plt.legend()\n",
    "    plt.grid(True)\n",
    "    plt.show()\n",
    "\n",
    "# Call the plot function\n",
    "plot_loss_curve(loss_history)\n"
   ]
  },
  {
   "cell_type": "code",
   "execution_count": 17,
   "id": "8d9a4ff0-97f3-4dc0-8ee0-cdf7613ded61",
   "metadata": {},
   "outputs": [],
   "source": [
    "def predict(X, W, b):\n",
    "    \"\"\"\n",
    "    Predict the class labels for new data points.\n",
    "    \n",
    "    Args:\n",
    "    - X (numpy.ndarray): Feature matrix for new data (shape: (num_samples, num_features))\n",
    "    - W (numpy.ndarray): Learned weights (shape: (num_features, num_classes))\n",
    "    - b (numpy.ndarray): Learned biases (shape: (1, num_classes))\n",
    "    \n",
    "    Returns:\n",
    "    - predictions (numpy.ndarray): Predicted class labels (shape: (num_samples,))\n",
    "    \"\"\"\n",
    "    scores = np.dot(X, W) + b\n",
    "    probs = softmax(scores)  \n",
    "    return np.argmax(probs, axis=1) "
   ]
  },
  {
   "cell_type": "code",
   "execution_count": 18,
   "id": "bc4be314-45ff-4dc3-9bb2-f71ddb3b3f9b",
   "metadata": {},
   "outputs": [
    {
     "name": "stdout",
     "output_type": "stream",
     "text": [
      "test_predict passed!\n"
     ]
    }
   ],
   "source": [
    "def test_predict():\n",
    "    X_train = np.random.randn(100, 3)\n",
    "    W = np.random.randn(3, 3)\n",
    "    b = np.random.randn(1, 3)\n",
    "    predictions = predict(X_train, W, b)\n",
    "    assert predictions.shape[0] == X_train.shape[0], \"Test failed: Prediction output size mismatch\"\n",
    "    print(\"test_predict passed!\")\n",
    "test_predict()"
   ]
  },
  {
   "cell_type": "code",
   "execution_count": 19,
   "id": "27906675-e898-4dc1-b076-17243643b5d0",
   "metadata": {},
   "outputs": [
    {
     "name": "stdout",
     "output_type": "stream",
     "text": [
      "Training Accuracy: 70.79%\n",
      "Testing Accuracy: 71.51%\n"
     ]
    }
   ],
   "source": [
    "train_predictions = predict(X_train, W, b)\n",
    "test_predictions = predict(X_test, W, b)\n",
    "\n",
    "train_accuracy = accuracy_score(np.argmax(y_train, axis=1), train_predictions)\n",
    "test_accuracy = accuracy_score(np.argmax(y_test, axis=1), test_predictions)\n",
    "\n",
    "print(f\"Training Accuracy: {train_accuracy * 100:.2f}%\")\n",
    "print(f\"Testing Accuracy: {test_accuracy * 100:.2f}%\")"
   ]
  },
  {
   "cell_type": "markdown",
   "id": "68105bdb-241d-490b-95aa-48dbbd0e9eb8",
   "metadata": {},
   "source": []
  }
 ],
 "metadata": {
  "kernelspec": {
   "display_name": "Python 3 (ipykernel)",
   "language": "python",
   "name": "python3"
  },
  "language_info": {
   "codemirror_mode": {
    "name": "ipython",
    "version": 3
   },
   "file_extension": ".py",
   "mimetype": "text/x-python",
   "name": "python",
   "nbconvert_exporter": "python",
   "pygments_lexer": "ipython3",
   "version": "3.13.0"
  }
 },
 "nbformat": 4,
 "nbformat_minor": 5
}
