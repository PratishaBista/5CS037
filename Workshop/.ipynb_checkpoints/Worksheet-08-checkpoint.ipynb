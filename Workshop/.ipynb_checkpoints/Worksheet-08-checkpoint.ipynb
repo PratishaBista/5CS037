{
 "cells": [
  {
   "cell_type": "code",
   "execution_count": 26,
   "id": "2aba5798",
   "metadata": {},
   "outputs": [],
   "source": [
    "from sklearn.datasets import load_wine\n",
    "from sklearn.model_selection import train_test_split\n",
    "from sklearn.tree import DecisionTreeClassifier, DecisionTreeRegressor\n",
    "from sklearn.ensemble import RandomForestClassifier, RandomForestRegressor\n",
    "from sklearn.metrics import f1_score, mean_squared_error\n",
    "from sklearn.model_selection import GridSearchCV, RandomizedSearchCV"
   ]
  },
  {
   "cell_type": "code",
   "execution_count": 27,
   "id": "d32274de",
   "metadata": {},
   "outputs": [
    {
     "name": "stdout",
     "output_type": "stream",
     "text": [
      "*** Dataset Description ***\n",
      ".. _wine_dataset:\n",
      "\n",
      "Wine recognition dataset\n",
      "------------------------\n",
      "\n",
      "**Data Set Characteristics:**\n",
      "\n",
      ":Number of Instances: 178\n",
      ":Number of Attributes: 13 numeric, predictive attributes and the class\n",
      ":Attribute Information:\n",
      "    - Alcohol\n",
      "    - Malic acid\n",
      "    - Ash\n",
      "    - Alcalinity of ash\n",
      "    - Magnesium\n",
      "    - Total phenols\n",
      "    - Flavanoids\n",
      "    - Nonflavanoid phenols\n",
      "    - Proanthocyanins\n",
      "    - Color intensity\n",
      "    - Hue\n",
      "    - OD280/OD315 of diluted wines\n",
      "    - Proline\n",
      "    - class:\n",
      "        - class_0\n",
      "        - class_1\n",
      "        - class_2\n",
      "\n",
      ":Summary Statistics:\n",
      "\n",
      "============================= ==== ===== ======= =====\n",
      "                                Min   Max   Mean     SD\n",
      "============================= ==== ===== ======= =====\n",
      "Alcohol:                      11.0  14.8    13.0   0.8\n",
      "Malic Acid:                   0.74  5.80    2.34  1.12\n",
      "Ash:                          1.36  3.23    2.36  0.27\n",
      "Alcalinity of Ash:            10.6  30.0    19.5   3.3\n",
      "Magnesium:                    70.0 162.0    99.7  14.3\n",
      "Total Phenols:                0.98  3.88    2.29  0.63\n",
      "Flavanoids:                   0.34  5.08    2.03  1.00\n",
      "Nonflavanoid Phenols:         0.13  0.66    0.36  0.12\n",
      "Proanthocyanins:              0.41  3.58    1.59  0.57\n",
      "Colour Intensity:              1.3  13.0     5.1   2.3\n",
      "Hue:                          0.48  1.71    0.96  0.23\n",
      "OD280/OD315 of diluted wines: 1.27  4.00    2.61  0.71\n",
      "Proline:                       278  1680     746   315\n",
      "============================= ==== ===== ======= =====\n",
      "\n",
      ":Missing Attribute Values: None\n",
      ":Class Distribution: class_0 (59), class_1 (71), class_2 (48)\n",
      ":Creator: R.A. Fisher\n",
      ":Donor: Michael Marshall (MARSHALL%PLU@io.arc.nasa.gov)\n",
      ":Date: July, 1988\n",
      "\n",
      "This is a copy of UCI ML Wine recognition datasets.\n",
      "https://archive.ics.uci.edu/ml/machine-learning-databases/wine/wine.data\n",
      "\n",
      "The data is the results of a chemical analysis of wines grown in the same\n",
      "region in Italy by three different cultivators. There are thirteen different\n",
      "measurements taken for different constituents found in the three types of\n",
      "wine.\n",
      "\n",
      "Original Owners:\n",
      "\n",
      "Forina, M. et al, PARVUS -\n",
      "An Extendible Package for Data Exploration, Classification and Correlation.\n",
      "Institute of Pharmaceutical and Food Analysis and Technologies,\n",
      "Via Brigata Salerno, 16147 Genoa, Italy.\n",
      "\n",
      "Citation:\n",
      "\n",
      "Lichman, M. (2013). UCI Machine Learning Repository\n",
      "[https://archive.ics.uci.edu/ml]. Irvine, CA: University of California,\n",
      "School of Information and Computer Science.\n",
      "\n",
      ".. dropdown:: References\n",
      "\n",
      "    (1) S. Aeberhard, D. Coomans and O. de Vel,\n",
      "    Comparison of Classifiers in High Dimensional Settings,\n",
      "    Tech. Rep. no. 92-02, (1992), Dept. of Computer Science and Dept. of\n",
      "    Mathematics and Statistics, James Cook University of North Queensland.\n",
      "    (Also submitted to Technometrics).\n",
      "\n",
      "    The data was used with many others for comparing various\n",
      "    classifiers. The classes are separable, though only RDA\n",
      "    has achieved 100% correct classification.\n",
      "    (RDA : 100%, QDA 99.4%, LDA 98.9%, 1NN 96.1% (z-transformed data))\n",
      "    (All results using the leave-one-out technique)\n",
      "\n",
      "    (2) S. Aeberhard, D. Coomans and O. de Vel,\n",
      "    \"THE CLASSIFICATION PERFORMANCE OF RDA\"\n",
      "    Tech. Rep. no. 92-01, (1992), Dept. of Computer Science and Dept. of\n",
      "    Mathematics and Statistics, James Cook University of North Queensland.\n",
      "    (Also submitted to Journal of Chemometrics).\n",
      "\n",
      "\n",
      "*** Feature Names ***\n",
      "['alcohol', 'malic_acid', 'ash', 'alcalinity_of_ash', 'magnesium', 'total_phenols', 'flavanoids', 'nonflavanoid_phenols', 'proanthocyanins', 'color_intensity', 'hue', 'od280/od315_of_diluted_wines', 'proline']\n",
      "\n",
      "*** Target Names ***\n",
      "['class_0' 'class_1' 'class_2']\n",
      "\n",
      "*** Data Shape ***\n",
      "Features Shape: (178, 13)\n",
      "Target Shape: (178,)\n",
      "\n",
      "*** First 5 Rows of Features ***\n",
      "[[1.423e+01 1.710e+00 2.430e+00 1.560e+01 1.270e+02 2.800e+00 3.060e+00\n",
      "  2.800e-01 2.290e+00 5.640e+00 1.040e+00 3.920e+00 1.065e+03]\n",
      " [1.320e+01 1.780e+00 2.140e+00 1.120e+01 1.000e+02 2.650e+00 2.760e+00\n",
      "  2.600e-01 1.280e+00 4.380e+00 1.050e+00 3.400e+00 1.050e+03]\n",
      " [1.316e+01 2.360e+00 2.670e+00 1.860e+01 1.010e+02 2.800e+00 3.240e+00\n",
      "  3.000e-01 2.810e+00 5.680e+00 1.030e+00 3.170e+00 1.185e+03]\n",
      " [1.437e+01 1.950e+00 2.500e+00 1.680e+01 1.130e+02 3.850e+00 3.490e+00\n",
      "  2.400e-01 2.180e+00 7.800e+00 8.600e-01 3.450e+00 1.480e+03]\n",
      " [1.324e+01 2.590e+00 2.870e+00 2.100e+01 1.180e+02 2.800e+00 2.690e+00\n",
      "  3.900e-01 1.820e+00 4.320e+00 1.040e+00 2.930e+00 7.350e+02]]\n",
      "\n",
      "****First 5 Target Values***\n",
      "[0 0 0 0 0]\n"
     ]
    }
   ],
   "source": [
    "data = load_wine()\n",
    "\n",
    "print(\"*** Dataset Description ***\")\n",
    "print(data.DESCR)\n",
    "\n",
    "print(\"\\n*** Feature Names ***\")\n",
    "print(data.feature_names)\n",
    "\n",
    "print(\"\\n*** Target Names ***\")\n",
    "print(data.target_names)\n",
    "\n",
    "print(\"\\n*** Data Shape ***\")\n",
    "print(f\"Features Shape: {data.data.shape}\")\n",
    "print(f\"Target Shape: {data.target.shape}\")\n",
    "\n",
    "print(\"\\n*** First 5 Rows of Features ***\")\n",
    "print(data.data[:5])\n",
    "\n",
    "print(\"\\n****First 5 Target Values***\")\n",
    "print(data.target[:5])"
   ]
  },
  {
   "cell_type": "markdown",
   "id": "9c2df31f",
   "metadata": {},
   "source": [
    "# Classification Models"
   ]
  },
  {
   "cell_type": "code",
   "execution_count": 28,
   "id": "94fa58f1",
   "metadata": {},
   "outputs": [],
   "source": [
    "x = data.data\n",
    "y = data.target\n",
    "\n",
    "x_train, x_test, y_train, y_test = train_test_split(\n",
    "    x, y, test_size=0.2, random_state=42\n",
    ")"
   ]
  },
  {
   "cell_type": "markdown",
   "id": "50c5ba61",
   "metadata": {},
   "source": [
    "## Decision Tree Classifier"
   ]
  },
  {
   "cell_type": "code",
   "execution_count": 29,
   "id": "a5ec12d7",
   "metadata": {},
   "outputs": [],
   "source": [
    "classifier_decision_tree = DecisionTreeClassifier(max_depth=3, random_state=42)\n",
    "classifier_decision_tree.fit(x_train, y_train)\n",
    "y_pred_decision_tree = classifier_decision_tree.predict(x_test)"
   ]
  },
  {
   "cell_type": "code",
   "execution_count": 30,
   "id": "c79ed43a",
   "metadata": {},
   "outputs": [],
   "source": [
    "f1_decision_tree = f1_score(y_test, y_pred_decision_tree, average=\"weighted\")"
   ]
  },
  {
   "cell_type": "markdown",
   "id": "faf09a87",
   "metadata": {},
   "source": [
    "## Random Forest Classifier"
   ]
  },
  {
   "cell_type": "code",
   "execution_count": 31,
   "id": "9f5ac0b0",
   "metadata": {},
   "outputs": [],
   "source": [
    "classifier_random_forest = RandomForestClassifier(n_estimators=100, random_state=12)\n",
    "classifier_random_forest.fit(x_train, y_train)\n",
    "y_pred_random_forest = classifier_random_forest.predict(x_test)"
   ]
  },
  {
   "cell_type": "code",
   "execution_count": 32,
   "id": "f96deae0",
   "metadata": {},
   "outputs": [],
   "source": [
    "f1_random_forest = f1_score(y_test, y_pred_random_forest, average=\"weighted\")"
   ]
  },
  {
   "cell_type": "markdown",
   "id": "c18d37a6",
   "metadata": {},
   "source": [
    "## F1-Score Comparision\n"
   ]
  },
  {
   "cell_type": "code",
   "execution_count": 33,
   "id": "695b1431",
   "metadata": {},
   "outputs": [
    {
     "name": "stdout",
     "output_type": "stream",
     "text": [
      "Decision tree classifier F1 Score: 0.9449\n",
      "Random forest classifier F1 Score: 1.0000\n"
     ]
    }
   ],
   "source": [
    "print(f\"Decision tree classifier F1 Score: {f1_decision_tree:.4f}\")\n",
    "print(f\"Random forest classifier F1 Score: {f1_random_forest:.4f}\")"
   ]
  },
  {
   "cell_type": "markdown",
   "id": "c2415990",
   "metadata": {},
   "source": [
    "## Hyperparameter Tuning using GridSearchCV, Random Forest Classifier"
   ]
  },
  {
   "cell_type": "code",
   "execution_count": 34,
   "id": "559bb0a9",
   "metadata": {},
   "outputs": [
    {
     "name": "stdout",
     "output_type": "stream",
     "text": [
      "Best Parameters: {'max_depth': 3, 'min_samples_split': 2, 'n_estimators': 100}\n",
      "Best F1 Score: 0.9783\n"
     ]
    }
   ],
   "source": [
    "grid_search = GridSearchCV(\n",
    "    estimator=classifier_random_forest,\n",
    "    param_grid={\n",
    "        \"n_estimators\": [50, 100, 200],\n",
    "        \"max_depth\": [3, 5, 10],\n",
    "        \"min_samples_split\": [2, 5, 10],\n",
    "    },\n",
    "    scoring=\"f1_weighted\",\n",
    "    cv=5,\n",
    ")\n",
    "grid_search.fit(x_train, y_train)\n",
    "\n",
    "print(f\"Best Parameters: {grid_search.best_params_}\")\n",
    "print(f\"Best F1 Score: {grid_search.best_score_:.4f}\")"
   ]
  },
  {
   "cell_type": "markdown",
   "id": "8b773c91",
   "metadata": {},
   "source": [
    "# Regression Model\n"
   ]
  },
  {
   "cell_type": "code",
   "execution_count": 35,
   "id": "b44bec30",
   "metadata": {},
   "outputs": [],
   "source": [
    "x2 = data.data\n",
    "y2 = data.data[:, 0]\n",
    "\n",
    "x_train_2, x_test_2, y_train_2, y_test_2 = train_test_split(\n",
    "    x2, y2, test_size=0.2, random_state=42\n",
    ")"
   ]
  },
  {
   "cell_type": "markdown",
   "id": "a571941e",
   "metadata": {},
   "source": [
    "## Decision Tree Regressor"
   ]
  },
  {
   "cell_type": "code",
   "execution_count": 36,
   "id": "4b2e19b6",
   "metadata": {},
   "outputs": [],
   "source": [
    "regressor_decision_tree = DecisionTreeRegressor(max_depth=3, random_state=42)\n",
    "regressor_decision_tree.fit(x_train_2, y_train_2)\n",
    "y_pred_decision_tree_regressor = regressor_decision_tree.predict(x_test_2)"
   ]
  },
  {
   "cell_type": "markdown",
   "id": "ba6ca753",
   "metadata": {},
   "source": [
    "## Random Forest Regressor"
   ]
  },
  {
   "cell_type": "code",
   "execution_count": 37,
   "id": "6cf86338",
   "metadata": {},
   "outputs": [],
   "source": [
    "regressor_random_forest = RandomForestRegressor(n_estimators=100, random_state=42)\n",
    "regressor_random_forest.fit(x_train_2, y_train_2)\n",
    "y_pred_random_forest_regressor = regressor_random_forest.predict(x_test_2)"
   ]
  },
  {
   "cell_type": "markdown",
   "id": "ff18e2ab",
   "metadata": {},
   "source": [
    "## Mean-Squared Error Comparision"
   ]
  },
  {
   "cell_type": "code",
   "execution_count": 38,
   "id": "7e1584ec",
   "metadata": {},
   "outputs": [
    {
     "name": "stdout",
     "output_type": "stream",
     "text": [
      "Decision Tree Regressor MSE: 0.0104\n",
      "Random Forest Regressor MSE: 0.0011\n"
     ]
    }
   ],
   "source": [
    "mse_dt = mean_squared_error(y_test_reg, y_pred_dt_reg)\n",
    "\n",
    "mse_rf = mean_squared_error(y_test_reg, y_pred_rf_reg)\n",
    "\n",
    "print(f\"Decision Tree Regressor MSE: {mse_dt:.4f}\")\n",
    "print(f\"Random Forest Regressor MSE: {mse_rf:.4f}\")"
   ]
  },
  {
   "cell_type": "markdown",
   "id": "976fb1bb",
   "metadata": {},
   "source": [
    "## Hyperparameter Tuning using GridSearchCV, Random Forest Regressor"
   ]
  },
  {
   "cell_type": "code",
   "execution_count": 39,
   "id": "06da9390",
   "metadata": {},
   "outputs": [
    {
     "name": "stderr",
     "output_type": "stream",
     "text": [
      "C:\\Users\\USER\\AppData\\Local\\Programs\\Python\\Python313\\Lib\\site-packages\\sklearn\\model_selection\\_validation.py:528: FitFailedWarning: \n",
      "90 fits failed out of a total of 250.\n",
      "The score on these train-test partitions for these parameters will be set to nan.\n",
      "If these failures are not expected, you can try to debug them by setting error_score='raise'.\n",
      "\n",
      "Below are more details about the failures:\n",
      "--------------------------------------------------------------------------------\n",
      "90 fits failed with the following error:\n",
      "Traceback (most recent call last):\n",
      "  File \"C:\\Users\\USER\\AppData\\Local\\Programs\\Python\\Python313\\Lib\\site-packages\\sklearn\\model_selection\\_validation.py\", line 866, in _fit_and_score\n",
      "    estimator.fit(X_train, y_train, **fit_params)\n",
      "    ~~~~~~~~~~~~~^^^^^^^^^^^^^^^^^^^^^^^^^^^^^^^^\n",
      "  File \"C:\\Users\\USER\\AppData\\Local\\Programs\\Python\\Python313\\Lib\\site-packages\\sklearn\\base.py\", line 1382, in wrapper\n",
      "    estimator._validate_params()\n",
      "    ~~~~~~~~~~~~~~~~~~~~~~~~~~^^\n",
      "  File \"C:\\Users\\USER\\AppData\\Local\\Programs\\Python\\Python313\\Lib\\site-packages\\sklearn\\base.py\", line 436, in _validate_params\n",
      "    validate_parameter_constraints(\n",
      "    ~~~~~~~~~~~~~~~~~~~~~~~~~~~~~~^\n",
      "        self._parameter_constraints,\n",
      "        ^^^^^^^^^^^^^^^^^^^^^^^^^^^^\n",
      "        self.get_params(deep=False),\n",
      "        ^^^^^^^^^^^^^^^^^^^^^^^^^^^^\n",
      "        caller_name=self.__class__.__name__,\n",
      "        ^^^^^^^^^^^^^^^^^^^^^^^^^^^^^^^^^^^^\n",
      "    )\n",
      "    ^\n",
      "  File \"C:\\Users\\USER\\AppData\\Local\\Programs\\Python\\Python313\\Lib\\site-packages\\sklearn\\utils\\_param_validation.py\", line 98, in validate_parameter_constraints\n",
      "    raise InvalidParameterError(\n",
      "    ...<2 lines>...\n",
      "    )\n",
      "sklearn.utils._param_validation.InvalidParameterError: The 'max_features' parameter of RandomForestRegressor must be an int in the range [1, inf), a float in the range (0.0, 1.0], a str among {'log2', 'sqrt'} or None. Got 'auto' instead.\n",
      "\n",
      "  warnings.warn(some_fits_failed_message, FitFailedWarning)\n",
      "C:\\Users\\USER\\AppData\\Local\\Programs\\Python\\Python313\\Lib\\site-packages\\sklearn\\model_selection\\_search.py:1107: UserWarning: One or more of the test scores are non-finite: [        nan -0.15258228         nan -0.08975522 -0.12985699 -0.16577309\n",
      " -0.09565042 -0.10932177 -0.11000463 -0.15237155 -0.10617257         nan\n",
      " -0.11188329 -0.08856436 -0.09969957 -0.11970499 -0.15186876 -0.11812785\n",
      " -0.09241142         nan         nan         nan         nan         nan\n",
      " -0.10695295         nan         nan         nan -0.15198347 -0.10031747\n",
      " -0.15258228 -0.09033877         nan -0.1668296          nan -0.11307166\n",
      "         nan         nan         nan -0.09539032 -0.09682632 -0.12295924\n",
      "         nan -0.09682632 -0.1668296          nan -0.09033877 -0.16577309\n",
      " -0.14812674 -0.15574548]\n",
      "  warnings.warn(\n"
     ]
    },
    {
     "name": "stdout",
     "output_type": "stream",
     "text": [
      "Best Parameters: {'n_estimators': 100, 'min_samples_split': 2, 'max_features': 'log2', 'max_depth': None}\n",
      "Best Negative MSE Score: -0.0886\n"
     ]
    }
   ],
   "source": [
    "random_search = RandomizedSearchCV(\n",
    "    estimator=regressor_random_forest,\n",
    "    param_distributions={\n",
    "        \"n_estimators\": [50, 100, 200, 300],\n",
    "        \"max_features\": [\"auto\", \"sqrt\", \"log2\"],\n",
    "        \"max_depth\": [3, 5, 10, None],\n",
    "        \"min_samples_split\": [2, 5, 10],\n",
    "    },\n",
    "    scoring=\"neg_mean_squared_error\",\n",
    "    n_iter=50,\n",
    "    cv=5,\n",
    "    random_state=42,\n",
    ")\n",
    "random_search.fit(x_train_2, y_train_2)\n",
    "\n",
    "print(f\"Best Parameters: {random_search.best_params_}\")\n",
    "print(f\"Best Negative MSE Score: {random_search.best_score_:.4f}\")"
   ]
  }
 ],
 "metadata": {
  "kernelspec": {
   "display_name": "Python 3 (ipykernel)",
   "language": "python",
   "name": "python3"
  },
  "language_info": {
   "codemirror_mode": {
    "name": "ipython",
    "version": 3
   },
   "file_extension": ".py",
   "mimetype": "text/x-python",
   "name": "python",
   "nbconvert_exporter": "python",
   "pygments_lexer": "ipython3",
   "version": "3.13.0"
  }
 },
 "nbformat": 4,
 "nbformat_minor": 5
}
