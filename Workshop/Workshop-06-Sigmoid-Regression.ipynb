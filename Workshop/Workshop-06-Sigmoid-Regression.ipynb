{
 "cells": [
  {
   "cell_type": "code",
   "execution_count": 4,
   "id": "8d5dd928-a205-471d-ba2e-acdd26e5f5df",
   "metadata": {},
   "outputs": [],
   "source": [
    "def logistic_function(x):\n",
    "  \"\"\"\n",
    "  Computes the logistic function applied to any value of x.\n",
    "  Arguments:\n",
    "    x: scalar or numpy array of any size.\n",
    "  Returns:\n",
    "    y: logistic function applied to x.\n",
    "  \"\"\"\n",
    "  import numpy as np\n",
    "  y = 1 / ( 1 + np.exp^-x)\n",
    "  return y"
   ]
  },
  {
   "cell_type": "code",
   "execution_count": 5,
   "id": "4212d3e4-ddb5-4a36-b9cf-6056227d0750",
   "metadata": {},
   "outputs": [
    {
     "ename": "TypeError",
     "evalue": "unsupported operand type(s) for +: 'int' and 'numpy.ufunc'",
     "output_type": "error",
     "traceback": [
      "\u001b[1;31m---------------------------------------------------------------------------\u001b[0m",
      "\u001b[1;31mTypeError\u001b[0m                                 Traceback (most recent call last)",
      "Cell \u001b[1;32mIn[5], line 31\u001b[0m\n\u001b[0;32m     28\u001b[0m     \u001b[38;5;28mprint\u001b[39m(\u001b[38;5;124m\"\u001b[39m\u001b[38;5;124mAll tests passed!\u001b[39m\u001b[38;5;124m\"\u001b[39m)\n\u001b[0;32m     30\u001b[0m \u001b[38;5;66;03m# Run the test case\u001b[39;00m\n\u001b[1;32m---> 31\u001b[0m \u001b[43mtest_logistic_function\u001b[49m\u001b[43m(\u001b[49m\u001b[43m)\u001b[49m\n",
      "Cell \u001b[1;32mIn[5], line 10\u001b[0m, in \u001b[0;36mtest_logistic_function\u001b[1;34m()\u001b[0m\n\u001b[0;32m      8\u001b[0m x_scalar \u001b[38;5;241m=\u001b[39m \u001b[38;5;241m0\u001b[39m\n\u001b[0;32m      9\u001b[0m expected_output_scalar \u001b[38;5;241m=\u001b[39m \u001b[38;5;28mround\u001b[39m(\u001b[38;5;241m1\u001b[39m \u001b[38;5;241m/\u001b[39m (\u001b[38;5;241m1\u001b[39m \u001b[38;5;241m+\u001b[39m np\u001b[38;5;241m.\u001b[39mexp(\u001b[38;5;241m0\u001b[39m)), \u001b[38;5;241m3\u001b[39m)  \u001b[38;5;66;03m# Expected output: 0.5\u001b[39;00m\n\u001b[1;32m---> 10\u001b[0m \u001b[38;5;28;01massert\u001b[39;00m \u001b[38;5;28mround\u001b[39m(\u001b[43mlogistic_function\u001b[49m\u001b[43m(\u001b[49m\u001b[43mx_scalar\u001b[49m\u001b[43m)\u001b[49m, \u001b[38;5;241m3\u001b[39m) \u001b[38;5;241m==\u001b[39m expected_output_scalar, \u001b[38;5;124m\"\u001b[39m\u001b[38;5;124mTest failed for scalar input\u001b[39m\u001b[38;5;124m\"\u001b[39m\n\u001b[0;32m     12\u001b[0m \u001b[38;5;66;03m# Test with positive scalar input\u001b[39;00m\n\u001b[0;32m     13\u001b[0m x_pos \u001b[38;5;241m=\u001b[39m \u001b[38;5;241m2\u001b[39m\n",
      "Cell \u001b[1;32mIn[4], line 10\u001b[0m, in \u001b[0;36mlogistic_function\u001b[1;34m(x)\u001b[0m\n\u001b[0;32m      2\u001b[0m \u001b[38;5;250m\u001b[39m\u001b[38;5;124;03m\"\"\"\u001b[39;00m\n\u001b[0;32m      3\u001b[0m \u001b[38;5;124;03mComputes the logistic function applied to any value of x.\u001b[39;00m\n\u001b[0;32m      4\u001b[0m \u001b[38;5;124;03mArguments:\u001b[39;00m\n\u001b[1;32m   (...)\u001b[0m\n\u001b[0;32m      7\u001b[0m \u001b[38;5;124;03m  y: logistic function applied to x.\u001b[39;00m\n\u001b[0;32m      8\u001b[0m \u001b[38;5;124;03m\"\"\"\u001b[39;00m\n\u001b[0;32m      9\u001b[0m \u001b[38;5;28;01mimport\u001b[39;00m \u001b[38;5;21;01mnumpy\u001b[39;00m \u001b[38;5;28;01mas\u001b[39;00m \u001b[38;5;21;01mnp\u001b[39;00m\n\u001b[1;32m---> 10\u001b[0m y \u001b[38;5;241m=\u001b[39m \u001b[38;5;241m1\u001b[39m \u001b[38;5;241m/\u001b[39m ( \u001b[38;5;241;43m1\u001b[39;49m\u001b[43m \u001b[49m\u001b[38;5;241;43m+\u001b[39;49m\u001b[43m \u001b[49m\u001b[43mnp\u001b[49m\u001b[38;5;241;43m.\u001b[39;49m\u001b[43mexp\u001b[49m\u001b[38;5;241m^\u001b[39m\u001b[38;5;241m-\u001b[39mx)\n\u001b[0;32m     11\u001b[0m \u001b[38;5;28;01mreturn\u001b[39;00m y\n",
      "\u001b[1;31mTypeError\u001b[0m: unsupported operand type(s) for +: 'int' and 'numpy.ufunc'"
     ]
    }
   ],
   "source": [
    "import numpy as np\n",
    "\n",
    "def test_logistic_function():\n",
    "    \"\"\"\n",
    "    Test cases for the logistic_function.\n",
    "    \"\"\"\n",
    "    # Test with scalar input\n",
    "    x_scalar = 0\n",
    "    expected_output_scalar = round(1 / (1 + np.exp(0)), 3)  # Expected output: 0.5\n",
    "    assert round(logistic_function(x_scalar), 3) == expected_output_scalar, \"Test failed for scalar input\"\n",
    "\n",
    "    # Test with positive scalar input\n",
    "    x_pos = 2\n",
    "    expected_output_pos = round(1 / (1 + np.exp(-2)), 3)  # Expected output: ~0.881\n",
    "    assert round(logistic_function(x_pos), 3) == expected_output_pos, \"Test failed for positive scalar input\"\n",
    "\n",
    "    # Test with negative scalar input\n",
    "    x_neg = -3\n",
    "    expected_output_neg = round(1 / (1 + np.exp(3)), 3)  # Expected output: ~0.047\n",
    "    assert round(logistic_function(x_neg), 3) == expected_output_neg, \"Test failed for negative scalar input\"\n",
    "\n",
    "    # Test with numpy array input\n",
    "    x_array = np.array([0, 2, -3])\n",
    "    expected_output_array = np.array([0.5, 0.881, 0.047])  # Adjusted expected values rounded to 3 decimals\n",
    "    # Use np.round to round the array element-wise and compare\n",
    "    assert np.all(np.round(logistic_function(x_array), 3) == expected_output_array), \"Test failed for numpy array input\"\n",
    "\n",
    "    print(\"All tests passed!\")\n",
    "\n",
    "# Run the test case\n",
    "test_logistic_function()\n"
   ]
  }
 ],
 "metadata": {
  "kernelspec": {
   "display_name": "Python 3 (ipykernel)",
   "language": "python",
   "name": "python3"
  },
  "language_info": {
   "codemirror_mode": {
    "name": "ipython",
    "version": 3
   },
   "file_extension": ".py",
   "mimetype": "text/x-python",
   "name": "python",
   "nbconvert_exporter": "python",
   "pygments_lexer": "ipython3",
   "version": "3.13.0"
  }
 },
 "nbformat": 4,
 "nbformat_minor": 5
}
