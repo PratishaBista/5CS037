{
 "cells": [
  {
   "cell_type": "code",
   "execution_count": 2,
   "id": "fc34f1e1-030c-4077-a7dc-e9a73bd8322f",
   "metadata": {},
   "outputs": [
    {
     "name": "stdout",
     "output_type": "stream",
     "text": [
      "Hello, World!\n",
      "Python version: 3.12.2 (tags/v3.12.2:6abddd9, Feb  6 2024, 21:26:36) [MSC v.1937 64 bit (AMD64)]\n"
     ]
    }
   ],
   "source": [
    "import sys\n",
    "if sys.version_info.major == 3 and sys.version_info.minor >=6:\n",
    "    print(\"Hello, World!\")\n",
    "    print(f\"Python version: {sys.version}\")\n",
    "else:\n",
    "    print(\"Please use Python 3.6 or higher.\")"
   ]
  },
  {
   "cell_type": "code",
   "execution_count": 3,
   "id": "9dfdfaa4-7336-45ea-a853-61af39c89e66",
   "metadata": {},
   "outputs": [
    {
     "name": "stdout",
     "output_type": "stream",
     "text": [
      "data tyoe of age =  <class 'int'>\n",
      "data type of pi =  <class 'float'>\n",
      "data type of temperature =  <class 'float'>\n"
     ]
    }
   ],
   "source": [
    "#common data types\n",
    "age = 23\n",
    "pi = 3.14\n",
    "temperature = -5.5\n",
    "print(\"data tyoe of age = \", type(age))\n",
    "print(\"data type of pi = \", type(pi))\n",
    "print(\"data type of temperature = \", type(temperature))"
   ]
  },
  {
   "cell_type": "code",
   "execution_count": 5,
   "id": "eb3f395e-9b3f-4210-a774-971dbee02800",
   "metadata": {},
   "outputs": [
    {
     "name": "stdout",
     "output_type": "stream",
     "text": [
      "data type of the variable name =  <class 'str'>\n",
      "data type of the variable greeting =  <class 'str'>\n",
      "data type of the variable address =  <class 'str'>\n",
      "The first letter of the name is:  A\n",
      "The last letter of the name is:  e\n",
      "The second letter to the fourth of the name is:  lic\n",
      "The first two letters of the name are:  Al\n",
      "substring starting from the third letter is:  ice\n"
     ]
    }
   ],
   "source": [
    "#sequence\n",
    "name = \"Alice\"\n",
    "greeting = 'Hello'\n",
    "address = \"123 Main St\"\n",
    "print(\"data type of the variable name = \", type(name))\n",
    "print(\"data type of the variable greeting = \", type(greeting))\n",
    "print(\"data type of the variable address = \", type(address))\n",
    "\n",
    "#slice only one element\n",
    "print(\"The first letter of the name is: \", name[0])\n",
    "print(\"The last letter of the name is: \", name[-1])\n",
    "\n",
    "# slice a range of elements\n",
    "print(\"The second letter to the fourth of the name is: \", name[1:4])\n",
    "print(\"The first two letters of the name are: \", name[:2])\n",
    "print(\"substring starting from the third letter is: \", name [2:])"
   ]
  },
  {
   "cell_type": "code",
   "execution_count": 1,
   "id": "fc5a0ba7-4844-49e4-90b7-298ca3dc5cbc",
   "metadata": {},
   "outputs": [
    {
     "name": "stdout",
     "output_type": "stream",
     "text": [
      "[1, 2, 3, 4]\n",
      "[False, 'Hello', True]\n"
     ]
    }
   ],
   "source": [
    "#list\n",
    "list1 = [1, 2, 3, 4]\n",
    "mixed_list = [12, \"Hello\", True]\n",
    "mixed_list [0] = False\n",
    "print(list1)\n",
    "print(mixed_list)"
   ]
  },
  {
   "cell_type": "code",
   "execution_count": 2,
   "id": "4368389d-98d4-46da-91aa-e7a007259192",
   "metadata": {},
   "outputs": [
    {
     "name": "stdout",
     "output_type": "stream",
     "text": [
      "First element:  red\n",
      "Last two elements:  ('yellow', 'blue')\n",
      "Middle two elements:  ('green', 'yellow')\n"
     ]
    },
    {
     "ename": "TypeError",
     "evalue": "'tuple' object does not support item assignment",
     "output_type": "error",
     "traceback": [
      "\u001b[1;31m---------------------------------------------------------------------------\u001b[0m",
      "\u001b[1;31mTypeError\u001b[0m                                 Traceback (most recent call last)",
      "Cell \u001b[1;32mIn[2], line 6\u001b[0m\n\u001b[0;32m      4\u001b[0m \u001b[38;5;28mprint\u001b[39m(\u001b[38;5;124m\"\u001b[39m\u001b[38;5;124mLast two elements: \u001b[39m\u001b[38;5;124m\"\u001b[39m, colors[\u001b[38;5;241m2\u001b[39m:])\n\u001b[0;32m      5\u001b[0m \u001b[38;5;28mprint\u001b[39m(\u001b[38;5;124m\"\u001b[39m\u001b[38;5;124mMiddle two elements: \u001b[39m\u001b[38;5;124m\"\u001b[39m, colors[\u001b[38;5;241m1\u001b[39m:\u001b[38;5;241m3\u001b[39m])\n\u001b[1;32m----> 6\u001b[0m \u001b[43mcolors\u001b[49m\u001b[43m[\u001b[49m\u001b[38;5;241;43m0\u001b[39;49m\u001b[43m]\u001b[49m \u001b[38;5;241m=\u001b[39m \u001b[38;5;124m'\u001b[39m\u001b[38;5;124mpurple\u001b[39m\u001b[38;5;124m'\u001b[39m\n\u001b[0;32m      7\u001b[0m \u001b[38;5;28mprint\u001b[39m(colors)\n",
      "\u001b[1;31mTypeError\u001b[0m: 'tuple' object does not support item assignment"
     ]
    }
   ],
   "source": [
    "#tuple\n",
    "colors = ('red', 'green', 'yellow', 'blue')\n",
    "print(\"First element: \", colors[0])\n",
    "print(\"Last two elements: \", colors[2:])\n",
    "print(\"Middle two elements: \", colors[1:3])\n",
    "colors[0] = 'purple'\n",
    "print(colors) #tuple us immutable so it will generate an error. "
   ]
  },
  {
   "cell_type": "code",
   "execution_count": 8,
   "id": "0d36fb53-333b-4876-9edb-bd79b49613a9",
   "metadata": {},
   "outputs": [
    {
     "name": "stdout",
     "output_type": "stream",
     "text": [
      "Hello my name is John. I am 30 years old and I live at Pittsburgh.\n",
      "All keys:  ['name', 'age', 'city']\n",
      "All values:  ['John', 30, 'Pittsburgh']\n"
     ]
    }
   ],
   "source": [
    "\n",
    "#mapping\n",
    "person = {'name': 'John', 'age': 30, 'city': 'Pittsburgh'}\n",
    "\n",
    "print(f\"Hello my name is {person['name']}. I am {person['age']} years old and I live at {person['city']}.\")\n",
    "print(\"All keys: \", list(person.keys()))\n",
    "print(\"All values: \", list(person.values()))"
   ]
  },
  {
   "cell_type": "code",
   "execution_count": 9,
   "id": "8eb6b729-1ec3-45c2-8890-c98ac230b959",
   "metadata": {},
   "outputs": [
    {
     "name": "stdout",
     "output_type": "stream",
     "text": [
      "{8, 1, 2, 7}\n"
     ]
    }
   ],
   "source": [
    "#set are unordered collection\n",
    "unique_num = {1, 2, 7, 8 }\n",
    "print(unique_num)"
   ]
  },
  {
   "cell_type": "code",
   "execution_count": 10,
   "id": "c7054a07-0fc0-4ef0-b290-4dbadaf3abad",
   "metadata": {},
   "outputs": [
    {
     "name": "stdout",
     "output_type": "stream",
     "text": [
      "data type of variable is_student:  <class 'bool'>\n"
     ]
    }
   ],
   "source": [
    "#boolean\n",
    "is_student = True\n",
    "has_liscense = False\n",
    "print(\"data type of variable is_student: \", type(is_student))"
   ]
  },
  {
   "cell_type": "code",
   "execution_count": 3,
   "id": "efb4e57d-569a-42d8-94f9-5a2bb5690353",
   "metadata": {},
   "outputs": [
    {
     "name": "stdout",
     "output_type": "stream",
     "text": [
      "Cold temperatures below 10 degrees Celsius: [8.2, 7.9, 9.0, 8.5, 7.7, 8.4, 9.5, 8.1, 7.6, 8.0, 7.8, 8.7, 9.2, 8.3, 8.9, 7.8], and it was 16 times cold.\n",
      "Mild teperature between 10 degress to 15 degress Celsius: [14.1, 13.5, 13.0, 12.9, 13.3, 14.0, 13.4, 14.2, 12.8, 13.7, 13.6, 13.8, 13.9, 12.7, 13.1, 12.5], and it was 16 times mild.\n",
      "Comfortable temperatures between 15 degress to 20 degress Celsius: [17.4, 18.0, 17.8, 16.5, 17.2, 16.7, 18.3, 17.9, 17.0, 16.8, 17.5, 17.1, 18.1, 16.4, 18.2, 16.6], and it was 16 times comfortable.\n"
     ]
    }
   ],
   "source": [
    "#7 task\n",
    "temperatures = [8.2, 17.4, 14.1, 7.9, 18.0, 13.5, 9.0, 17.8, 13.0, 8.5,\n",
    "16.5, 12.9, 7.7, 17.2, 13.3, 8.4, 16.7, 14.0, 9.5, 18.3, 13.4, 8.1,\n",
    "17.9, 14.2, 7.6, 17.0, 12.8, 8.0, 16.8, 13.7, 7.8, 17.5, 13.6, 8.7,\n",
    "17.1, 13.8, 9.2, 18.1, 13.9, 8.3, 16.4, 12.7, 8.9, 18.2, 13.1, 7.8,\n",
    "16.6, 12.5]\n",
    "\n",
    "cold = []\n",
    "mild = []\n",
    "comfortable = []\n",
    "\n",
    "for temp in temperatures:\n",
    "    if temp < 10:\n",
    "        cold.append(temp)\n",
    "    elif 10 <= temp < 15:\n",
    "        mild.append(temp)\n",
    "    elif 15 <= temp <=20:\n",
    "        comfortable.append(temp)\n",
    "\n",
    "print(f\"Cold temperatures below 10 degrees Celsius: {cold}, and it was {len(cold)} times cold.\")\n",
    "print(f\"Mild teperature between 10 degress to 15 degress Celsius: {mild}, and it was {len(mild)} times mild.\")\n",
    "print(f\"Comfortable temperatures between 15 degress to 20 degress Celsius: {comfortable}, and it was {len(comfortable)} times comfortable.\")"
   ]
  },
  {
   "cell_type": "code",
   "execution_count": 4,
   "id": "094b79e9-8c82-4da2-8f51-3613e8993d61",
   "metadata": {},
   "outputs": [
    {
     "name": "stdout",
     "output_type": "stream",
     "text": [
      "Temperature in Fahrenheit:  [46.76, 63.32, 57.379999999999995, 46.22, 64.4, 56.3, 48.2, 64.04, 55.4, 47.3, 61.7, 55.22, 45.86, 62.959999999999994, 55.94, 47.120000000000005, 62.059999999999995, 57.2, 49.1, 64.94, 56.120000000000005, 46.58, 64.22, 57.56, 45.68, 62.6, 55.04, 46.4, 62.24, 56.66, 46.04, 63.5, 56.48, 47.66, 62.78, 56.84, 48.56, 64.58, 57.02, 46.94, 61.519999999999996, 54.86, 48.02, 64.75999999999999, 55.58, 46.04, 61.88, 54.5]\n"
     ]
    }
   ],
   "source": [
    "temperatures = [8.2, 17.4, 14.1, 7.9, 18.0, 13.5, 9.0, 17.8, 13.0, 8.5,\n",
    "16.5, 12.9, 7.7, 17.2, 13.3, 8.4, 16.7, 14.0, 9.5, 18.3, 13.4, 8.1,\n",
    "17.9, 14.2, 7.6, 17.0, 12.8, 8.0, 16.8, 13.7, 7.8, 17.5, 13.6, 8.7,\n",
    "17.1, 13.8, 9.2, 18.1, 13.9, 8.3, 16.4, 12.7, 8.9, 18.2, 13.1, 7.8,\n",
    "16.6, 12.5]\n",
    "\n",
    "temperatures_fahrenheit = []\n",
    "\n",
    "for temp in temperatures:\n",
    "    fahren = (temp * 9/5) + 32\n",
    "    #fahren = round((temp* 9/5) + 32, 2)\n",
    "    temperatures_fahrenheit.append(fahren)\n",
    "\n",
    "print(\"Temperature in Fahrenheit: \", temperatures_fahrenheit)"
   ]
  },
  {
   "cell_type": "code",
   "execution_count": 2,
   "id": "0ae27ded-bdf2-463a-aa8e-c8fe600264d9",
   "metadata": {},
   "outputs": [
    {
     "name": "stdout",
     "output_type": "stream",
     "text": [
      "Night temperatures: [8.2, 7.9, 9.0, 8.5, 7.7, 8.4, 9.5, 8.1, 7.6, 8.0, 7.8, 8.7, 9.2, 8.3, 8.9, 7.8]\n",
      "Evening temperatures: [14.1, 13.5, 13.0, 12.9, 13.3, 14.0, 13.4, 14.2, 12.8, 13.7, 13.6, 13.8, 13.9, 12.7, 13.1, 12.5]\n",
      "Day temperatures: [17.4, 18.0, 17.8, 16.5, 17.2, 16.7, 18.3, 17.9, 17.0, 16.8, 17.5, 17.1, 18.1, 16.4, 18.2, 16.6]\n",
      "Average day-time temperature: 17.34°C\n"
     ]
    }
   ],
   "source": [
    "temperatures = [8.2, 17.4, 14.1, 7.9, 18.0, 13.5, 9.0, 17.8, 13.0, 8.5,\n",
    "16.5, 12.9, 7.7, 17.2, 13.3, 8.4, 16.7, 14.0, 9.5, 18.3, 13.4, 8.1,\n",
    "17.9, 14.2, 7.6, 17.0, 12.8, 8.0, 16.8, 13.7, 7.8, 17.5, 13.6, 8.7,\n",
    "17.1, 13.8, 9.2, 18.1, 13.9, 8.3, 16.4, 12.7, 8.9, 18.2, 13.1, 7.8,\n",
    "16.6, 12.5]\n",
    "\n",
    "night = []\n",
    "evening = []\n",
    "day = []\n",
    "\n",
    "for temp in temperatures:\n",
    "    if temp < 10:\n",
    "        night.append(temp)\n",
    "    elif temp > 8 and temp <16:\n",
    "        evening.append(temp)\n",
    "    elif temp > 16 and temp < 24:\n",
    "        day.append(temp)\n",
    "\n",
    "\n",
    "avg_day_temp = sum(day) /len(day)\n",
    "\n",
    "print(f\"Night temperatures: {night}\")\n",
    "print(f\"Evening temperatures: {evening}\")\n",
    "print(f\"Day temperatures: {day}\")\n",
    "print(f\"Average day-time temperature: {avg_day_temp:.2f}°C\")"
   ]
  },
  {
   "cell_type": "code",
   "execution_count": 14,
   "id": "c45744de-1983-46b7-b2cb-8f7cce2b0e89",
   "metadata": {},
   "outputs": [
    {
     "name": "stdout",
     "output_type": "stream",
     "text": [
      "36\n"
     ]
    }
   ],
   "source": [
    "#8\n",
    "nested_list = [1, [2, [3, 4], 5], 6, [7, 8]]\n",
    "def sum_nested_list(nested_list):\n",
    "    total = 0\n",
    "    for element in nested_list:\n",
    "        if isinstance(element, list):\n",
    "            total += sum_nested_list(element)\n",
    "        else:\n",
    "            total += element\n",
    "    return total\n",
    "print(sum_nested_list(nested_list))"
   ]
  },
  {
   "cell_type": "code",
   "execution_count": 18,
   "id": "68373f1b-36fc-4417-bdc4-80b29cdf3907",
   "metadata": {},
   "outputs": [
    {
     "name": "stdout",
     "output_type": "stream",
     "text": [
      "['abc', 'acb', 'bac', 'bca', 'cab', 'cba']\n",
      "['aab', 'aba', 'aab', 'aba', 'baa', 'baa']\n"
     ]
    }
   ],
   "source": [
    "def generate_permutations(s):\n",
    "    if len(s) == 1:\n",
    "        return [s]\n",
    "    else:\n",
    "        permutation = []\n",
    "        for i, c in enumerate(s):\n",
    "            for perm in generate_permutations(s[:i] + s[i+1:]):\n",
    "                permutation.append(c + perm)\n",
    "        return permutation\n",
    "\n",
    "print(generate_permutations(\"abc\"))\n",
    "print(generate_permutations(\"aab\"))"
   ]
  },
  {
   "cell_type": "code",
   "execution_count": 19,
   "id": "8b34e6dc-1145-444e-bdd4-f5d11d4483c9",
   "metadata": {},
   "outputs": [
    {
     "name": "stdout",
     "output_type": "stream",
     "text": [
      "Total size:  1400\n"
     ]
    }
   ],
   "source": [
    "#task 3: directory size calculation\n",
    "\n",
    "def calculate_directory_size(directory):\n",
    "    total_size = 0\n",
    "    for key, value in directory.items():\n",
    "        if isinstance(value, dict):\n",
    "            total_size += calculate_directory_size(value)\n",
    "        else:\n",
    "            total_size += value\n",
    "    return total_size\n",
    "\n",
    "directory_structure = {\n",
    "    \"file1.txt\" : 200,\n",
    "    \"file2.txt\" : 300,\n",
    "    \"subdir1\" : {\n",
    "        \"file3.txt\" : 400,\n",
    "        \"file4.txt\" : 100\n",
    "    },\n",
    "    \"subdir2\": {\n",
    "        \"subsubdir1\" : {\n",
    "            \"file5.txt\" : 250\n",
    "        },\n",
    "\n",
    "        \"file6.txt\" : 150\n",
    "    }\n",
    "}\n",
    "\n",
    "print(\"Total size: \", calculate_directory_size(directory_structure))\n",
    "\n",
    "    "
   ]
  },
  {
   "cell_type": "code",
   "execution_count": 23,
   "id": "6df18078-e1ae-461b-aec3-f983123c11e0",
   "metadata": {},
   "outputs": [
    {
     "name": "stdout",
     "output_type": "stream",
     "text": [
      "Minimum coins needed for amount 11 with coins [1, 2, 5]: 3\n",
      "Minimum coins needed for amount 3 with coins [2]: -1\n",
      "Minimum coins needed for amount 6249 with coins [186, 419, 83, 408]: 20\n"
     ]
    }
   ],
   "source": [
    "def min_coins(coins, amount):\n",
    "    dp = [float('inf')] * (amount + 1)\n",
    "    dp[0] = 0\n",
    "    for coin in coins:\n",
    "        for i in range(coin, amount + 1):\n",
    "            dp[i] = min(dp[i], dp[i - coin] + 1)\n",
    "    return dp[amount] if dp[amount] != float ('inf') else -1\n",
    "\n",
    "\n",
    "coins = [1, 2, 5]\n",
    "amount = 11\n",
    "print(f\"Minimum coins needed for amount {amount} with coins {coins}: {min_coins(coins, amount)}\")\n",
    "\n",
    "coins = [2]\n",
    "amount = 3\n",
    "print(f\"Minimum coins needed for amount {amount} with coins {coins}: {min_coins(coins, amount)}\")\n",
    "\n",
    "coins = [186, 419, 83, 408]\n",
    "amount = 6249\n",
    "print(f\"Minimum coins needed for amount {amount} with coins {coins}: {min_coins(coins, amount)}\")"
   ]
  },
  {
   "cell_type": "code",
   "execution_count": 29,
   "id": "31e7b9c2-a183-43fc-beaa-360c939f5785",
   "metadata": {},
   "outputs": [
    {
     "name": "stdout",
     "output_type": "stream",
     "text": [
      "2\n"
     ]
    }
   ],
   "source": [
    "def longest_common_subsequence(s1, s2):\n",
    "    m, n = len(s1), len(s2)\n",
    "    L = [[0 for x in range(n+1)] for x in range(m + 1)]\n",
    "\n",
    "\n",
    "    for i in range(1, m + 1):\n",
    "        for j in range(1, n + 1):\n",
    "            if s1[i - 1] == s2[j - 1]:\n",
    "                L[i][j] = L[i - 1][j - 1] + 1\n",
    "            else:\n",
    "                L[i][j] = max(L[i - 1][j], L[i][j- 1])\n",
    "                \n",
    "\n",
    "    return L[m][n]\n",
    "\n",
    "print(longest_common_subsequence(\"acadb\", \"cbda\"))"
   ]
  },
  {
   "cell_type": "code",
   "execution_count": 31,
   "id": "89245d34-e451-4b9b-8869-fd741d056e1c",
   "metadata": {},
   "outputs": [
    {
     "name": "stdout",
     "output_type": "stream",
     "text": [
      "9\n"
     ]
    }
   ],
   "source": [
    "def knapsack(weights, values, capacity):\n",
    "    n = len(weights)\n",
    "    dp = [[0 for x in range(capacity + 1)] for x in range(n + 1)]\n",
    "\n",
    "    for i in range (1, n + 1):\n",
    "        for w in range(1, capacity + 1):\n",
    "            if weights[i - 1] <= w:\n",
    "                dp[i][w] = max(dp[i - 1][w], values[i - 1] + dp[i - 1][w - weights[i - 1]])\n",
    "            else:\n",
    "                dp[i][w] = dp[i - 1][w]\n",
    "\n",
    "    return dp[n][capacity]\n",
    "\n",
    "\n",
    "print(knapsack([1, 3, 4, 5], [1, 4, 5, 7], 7))\n",
    "            "
   ]
  },
  {
   "cell_type": "code",
   "execution_count": null,
   "id": "09889e47-08a7-4582-ba5d-cc67a6da91a7",
   "metadata": {},
   "outputs": [],
   "source": []
  }
 ],
 "metadata": {
  "kernelspec": {
   "display_name": "Python 3 (ipykernel)",
   "language": "python",
   "name": "python3"
  },
  "language_info": {
   "codemirror_mode": {
    "name": "ipython",
    "version": 3
   },
   "file_extension": ".py",
   "mimetype": "text/x-python",
   "name": "python",
   "nbconvert_exporter": "python",
   "pygments_lexer": "ipython3",
   "version": "3.12.2"
  }
 },
 "nbformat": 4,
 "nbformat_minor": 5
}
